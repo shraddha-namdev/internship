{
 "cells": [
  {
   "cell_type": "markdown",
   "metadata": {},
   "source": [
    "# Car Price Prediction"
   ]
  },
  {
   "cell_type": "markdown",
   "metadata": {},
   "source": [
    "### Objective \n",
    "<p>To build suitable Machine Learning Model for Car Price Prediction on the bellow data set.</p>"
   ]
  },
  {
   "cell_type": "markdown",
   "metadata": {},
   "source": [
    "<h1>Table of contents</h1>\n",
    "\n",
    "1. [Importing Libraries and Dataset](#1)<br>\n",
    "2. [Exploratory Data Analysis](#2)<br>\n",
    "3. [Feature Engineering](#3)<br>\n",
    "4. [Data Vizualization](#4)<br>\n",
    "5. [Model Building](#5)<br>\n",
    "6. [Model Evaluation](#6)<br>\n",
    "7. [Generating pickle](#7)<br>\n",
    "<hr>"
   ]
  },
  {
   "cell_type": "markdown",
   "metadata": {},
   "source": [
    "<h2>Importing Libraries and Dataset</h2><a id=\"1\"></a>"
   ]
  },
  {
   "cell_type": "code",
   "execution_count": 27,
   "metadata": {},
   "outputs": [],
   "source": [
    "from bs4 import BeautifulSoup\n",
    "import requests\n",
    "import pandas as pd\n",
    "year_list=[]\n",
    "car_name_list=[]\n",
    "km_list=[]\n",
    "model_list=[]\n",
    "owner_list=[]\n",
    "car_type_list=[]\n",
    "price_list=[]\n",
    "loc = ['delhi-ncr','bengaluru','chennai','mumbai','pune','hyderabad','kolkata','ahmedabad','chandigarh','jaipur']\n",
    "# loc = ['delhi-ncr']\n",
    "\n",
    "for loc in loc:\n",
    "    # print loc\n",
    "    car = ['hyundai','renault','mahindra','toyota','audi','honda','maruti','tata','ford','skoda' ]\n",
    "\n",
    "    for car in car:\n",
    "\n",
    "        # print car\n",
    "        url = ('https://www.cars24.com/buy-used-{0}-cars-{1}/').format(car,loc)\n",
    "#         print url\n",
    "\n",
    "# url = 'https://www.cars24.com/buy-used-hyundai-cars-delhi-ncr/'\n",
    "        r = requests.get(url)\n",
    "        htmlc = r.content\n",
    "        soup = BeautifulSoup(htmlc, 'html.parser')\n",
    "        carname = soup.find_all('h2', class_='_3FpCg')\n",
    "        carmodel = soup.find_all('p', class_='cvakB')\n",
    "        carowner = soup.find_all('ul', class_='bVR0c')\n",
    "        price = soup.find_all('div', class_='_7udZZ')\n",
    "        \n",
    "\n",
    "        # car name\n",
    "        c = 0\n",
    "        \n",
    "        for name in carname:\n",
    "            c = c + 1\n",
    "            year = name.get_text()[:4]\n",
    "            year_list.append(year)\n",
    "\n",
    "\n",
    "        \n",
    "        for name in carname:\n",
    "            c_name = name.get_text()[5:]\n",
    "            car_name_list.append(c_name)\n",
    "            # print c_name\n",
    "        # #\n",
    "        # # car model name\n",
    "        \n",
    "        for model in carmodel:\n",
    "            model = model.get_text()[:-6]\n",
    "            model_list.append(model)\n",
    "        # #\n",
    "        # # car owner\n",
    "        \n",
    "        \n",
    "        for model in carowner:\n",
    "            km = model.find('li')\n",
    "            # km_list.append(km)\n",
    "\n",
    "            kms = model.get_text()[:9]\n",
    "            km_list.append(kms)# km\n",
    "            # print kms\n",
    "            oewen = model.get_text()[9:18]\n",
    "            owner_list.append(oewen)\n",
    "\n",
    "            c_type = model.get_text()[18:]\n",
    "            car_type_list.append(c_type)\n",
    "        # print km_list\n",
    "        # print owner_list\n",
    "#         print car_type_list\n",
    "        # # exit()\n",
    "        #     # print c_type\n",
    "        #     # owner_type = (model.select_one(\"ul li:nth-of-type(2)\").text)  # owner type\n",
    "        #     # owner_list.append(owner_type)\n",
    "        #     # car_type = (model.select_one(\"ul li:nth-of-type(3)\").text)  # petrol/diesel\n",
    "        #     # car_type_list.append(car_type)\n",
    "        \n",
    "        for model in price:\n",
    "            price = model.get_text()\n",
    "            price_list.append(price)\n",
    "        \n",
    "        \n",
    "#         filename = \"university_record1.csv\"\n",
    "#         row = []\n",
    "#         for i in range(len(name)):\n",
    "#         tmp = []\n",
    "#         tmp.append(name[i])\n",
    "#         tmp.append(branch[i])\n",
    "#         tmp.append(year[i])\n",
    "#         row.append(tmp)\n",
    "        \n",
    "        # for i in range(c):\n",
    "        #     # print i\n",
    "df = pd.DataFrame({'year': year_list, 'carname': car_name_list, 'kms': km_list, \"owner_type\": owner_list, \"car_type\": car_type_list, 'price': price_list})\n",
    "df.to_csv(\"carsdataa.csv\",index=False)\n",
    "# print(df)\n",
    "        \n",
    "        "
   ]
  },
  {
   "cell_type": "code",
   "execution_count": 28,
   "metadata": {},
   "outputs": [
    {
     "data": {
      "text/html": [
       "<div>\n",
       "<style scoped>\n",
       "    .dataframe tbody tr th:only-of-type {\n",
       "        vertical-align: middle;\n",
       "    }\n",
       "\n",
       "    .dataframe tbody tr th {\n",
       "        vertical-align: top;\n",
       "    }\n",
       "\n",
       "    .dataframe thead th {\n",
       "        text-align: right;\n",
       "    }\n",
       "</style>\n",
       "<table border=\"1\" class=\"dataframe\">\n",
       "  <thead>\n",
       "    <tr style=\"text-align: right;\">\n",
       "      <th></th>\n",
       "      <th>year</th>\n",
       "      <th>carname</th>\n",
       "      <th>kms</th>\n",
       "      <th>owner_type</th>\n",
       "      <th>car_type</th>\n",
       "      <th>price</th>\n",
       "    </tr>\n",
       "  </thead>\n",
       "  <tbody>\n",
       "    <tr>\n",
       "      <th>0</th>\n",
       "      <td>2013</td>\n",
       "      <td>Hyundai Eon</td>\n",
       "      <td>11,989 km</td>\n",
       "      <td>1st Owner</td>\n",
       "      <td>PetrolUP-32</td>\n",
       "      <td>₹2,09,899</td>\n",
       "    </tr>\n",
       "    <tr>\n",
       "      <th>1</th>\n",
       "      <td>2014</td>\n",
       "      <td>Hyundai i10</td>\n",
       "      <td>35,317 km</td>\n",
       "      <td>2nd Owner</td>\n",
       "      <td>PetrolDL-3C</td>\n",
       "      <td>₹3,01,299</td>\n",
       "    </tr>\n",
       "    <tr>\n",
       "      <th>2</th>\n",
       "      <td>2022</td>\n",
       "      <td>Hyundai VENUE</td>\n",
       "      <td>9,463 km1</td>\n",
       "      <td>st OwnerP</td>\n",
       "      <td>etrolUP-14</td>\n",
       "      <td>₹9,68,199</td>\n",
       "    </tr>\n",
       "    <tr>\n",
       "      <th>3</th>\n",
       "      <td>2021</td>\n",
       "      <td>Hyundai NEW I20</td>\n",
       "      <td>5,992 km1</td>\n",
       "      <td>st OwnerP</td>\n",
       "      <td>etrolDL-7C</td>\n",
       "      <td>₹10,59,099</td>\n",
       "    </tr>\n",
       "    <tr>\n",
       "      <th>4</th>\n",
       "      <td>2021</td>\n",
       "      <td>Hyundai NEW I20</td>\n",
       "      <td>2,806 km1</td>\n",
       "      <td>st OwnerP</td>\n",
       "      <td>etrolUP-14</td>\n",
       "      <td>₹7,56,599</td>\n",
       "    </tr>\n",
       "    <tr>\n",
       "      <th>...</th>\n",
       "      <td>...</td>\n",
       "      <td>...</td>\n",
       "      <td>...</td>\n",
       "      <td>...</td>\n",
       "      <td>...</td>\n",
       "      <td>...</td>\n",
       "    </tr>\n",
       "    <tr>\n",
       "      <th>1342</th>\n",
       "      <td>2016</td>\n",
       "      <td>Ford Ecosport</td>\n",
       "      <td>1,07,588</td>\n",
       "      <td>km1st Own</td>\n",
       "      <td>erDieselRJ-32</td>\n",
       "      <td>₹5,80,099</td>\n",
       "    </tr>\n",
       "    <tr>\n",
       "      <th>1343</th>\n",
       "      <td>2020</td>\n",
       "      <td>Ford Ecosport</td>\n",
       "      <td>7,280 km1</td>\n",
       "      <td>st OwnerP</td>\n",
       "      <td>etrolRJ-45</td>\n",
       "      <td>₹9,29,299</td>\n",
       "    </tr>\n",
       "    <tr>\n",
       "      <th>1344</th>\n",
       "      <td>2018</td>\n",
       "      <td>Ford Ecosport</td>\n",
       "      <td>74,355 km</td>\n",
       "      <td>1st Owner</td>\n",
       "      <td>DieselRJ-23</td>\n",
       "      <td>₹7,58,999</td>\n",
       "    </tr>\n",
       "    <tr>\n",
       "      <th>1345</th>\n",
       "      <td>2018</td>\n",
       "      <td>Skoda Rapid</td>\n",
       "      <td>28,490 km</td>\n",
       "      <td>1st Owner</td>\n",
       "      <td>PetrolRJ-45</td>\n",
       "      <td>₹6,55,199</td>\n",
       "    </tr>\n",
       "    <tr>\n",
       "      <th>1346</th>\n",
       "      <td>2008</td>\n",
       "      <td>Skoda Superb</td>\n",
       "      <td>74,482 km</td>\n",
       "      <td>1st Owner</td>\n",
       "      <td>DieselRJ-14</td>\n",
       "      <td>₹2,54,310</td>\n",
       "    </tr>\n",
       "  </tbody>\n",
       "</table>\n",
       "<p>1347 rows × 6 columns</p>\n",
       "</div>"
      ],
      "text/plain": [
       "      year          carname        kms owner_type       car_type       price\n",
       "0     2013      Hyundai Eon  11,989 km  1st Owner    PetrolUP-32   ₹2,09,899\n",
       "1     2014      Hyundai i10  35,317 km  2nd Owner    PetrolDL-3C   ₹3,01,299\n",
       "2     2022    Hyundai VENUE  9,463 km1  st OwnerP     etrolUP-14   ₹9,68,199\n",
       "3     2021  Hyundai NEW I20  5,992 km1  st OwnerP     etrolDL-7C  ₹10,59,099\n",
       "4     2021  Hyundai NEW I20  2,806 km1  st OwnerP     etrolUP-14   ₹7,56,599\n",
       "...    ...              ...        ...        ...            ...         ...\n",
       "1342  2016    Ford Ecosport  1,07,588   km1st Own  erDieselRJ-32   ₹5,80,099\n",
       "1343  2020    Ford Ecosport  7,280 km1  st OwnerP     etrolRJ-45   ₹9,29,299\n",
       "1344  2018    Ford Ecosport  74,355 km  1st Owner    DieselRJ-23   ₹7,58,999\n",
       "1345  2018      Skoda Rapid  28,490 km  1st Owner    PetrolRJ-45   ₹6,55,199\n",
       "1346  2008     Skoda Superb  74,482 km  1st Owner    DieselRJ-14   ₹2,54,310\n",
       "\n",
       "[1347 rows x 6 columns]"
      ]
     },
     "execution_count": 28,
     "metadata": {},
     "output_type": "execute_result"
    }
   ],
   "source": [
    "Train = pd.read_csv('carsdataa.csv')\n",
    "Train            "
   ]
  },
  {
   "cell_type": "markdown",
   "metadata": {},
   "source": [
    "<h2>Exploratory Data Analysis</h2><a id=\"2\"></a>"
   ]
  },
  {
   "cell_type": "code",
   "execution_count": 29,
   "metadata": {},
   "outputs": [
    {
     "name": "stdout",
     "output_type": "stream",
     "text": [
      "The size of Dataframe is:  (1347, 6)\n",
      "\n",
      "\n",
      "<class 'pandas.core.frame.DataFrame'>\n",
      "RangeIndex: 1347 entries, 0 to 1346\n",
      "Data columns (total 6 columns):\n",
      " #   Column      Non-Null Count  Dtype \n",
      "---  ------      --------------  ----- \n",
      " 0   year        1347 non-null   object\n",
      " 1   carname     1347 non-null   object\n",
      " 2   kms         1347 non-null   object\n",
      " 3   owner_type  1347 non-null   object\n",
      " 4   car_type    1347 non-null   object\n",
      " 5   price       1347 non-null   object\n",
      "dtypes: object(6)\n",
      "memory usage: 63.3+ KB\n"
     ]
    }
   ],
   "source": [
    "print('The size of Dataframe is: ', df.shape)\n",
    "print('\\n')\n",
    "df.info()"
   ]
  },
  {
   "cell_type": "markdown",
   "metadata": {},
   "source": [
    "- 'Selling_Price' is our Target variable."
   ]
  },
  {
   "cell_type": "code",
   "execution_count": 30,
   "metadata": {},
   "outputs": [],
   "source": [
    "# To find total_missing_values in different columns of data and their percentage\n",
    "def missing_data(data):\n",
    "    \"\"\"\n",
    "    This will take in a dataframe and \n",
    "    finds the total_missing_values as well as percentage of the value counts\n",
    "    \"\"\"\n",
    "    total = data.isnull().sum().sort_values(ascending = False)\n",
    "    percent = (data.isnull().sum()/data.isnull().count()*100).sort_values(ascending = False)\n",
    "    return pd.concat([total, percent], axis=1, keys=['Total', 'Percent'])"
   ]
  },
  {
   "cell_type": "code",
   "execution_count": 35,
   "metadata": {},
   "outputs": [
    {
     "data": {
      "text/html": [
       "<div>\n",
       "<style scoped>\n",
       "    .dataframe tbody tr th:only-of-type {\n",
       "        vertical-align: middle;\n",
       "    }\n",
       "\n",
       "    .dataframe tbody tr th {\n",
       "        vertical-align: top;\n",
       "    }\n",
       "\n",
       "    .dataframe thead th {\n",
       "        text-align: right;\n",
       "    }\n",
       "</style>\n",
       "<table border=\"1\" class=\"dataframe\">\n",
       "  <thead>\n",
       "    <tr style=\"text-align: right;\">\n",
       "      <th></th>\n",
       "      <th>Total</th>\n",
       "      <th>Percent</th>\n",
       "    </tr>\n",
       "  </thead>\n",
       "  <tbody>\n",
       "    <tr>\n",
       "      <th>year</th>\n",
       "      <td>0</td>\n",
       "      <td>0.0</td>\n",
       "    </tr>\n",
       "    <tr>\n",
       "      <th>carname</th>\n",
       "      <td>0</td>\n",
       "      <td>0.0</td>\n",
       "    </tr>\n",
       "    <tr>\n",
       "      <th>kms</th>\n",
       "      <td>0</td>\n",
       "      <td>0.0</td>\n",
       "    </tr>\n",
       "    <tr>\n",
       "      <th>owner_type</th>\n",
       "      <td>0</td>\n",
       "      <td>0.0</td>\n",
       "    </tr>\n",
       "    <tr>\n",
       "      <th>car_type</th>\n",
       "      <td>0</td>\n",
       "      <td>0.0</td>\n",
       "    </tr>\n",
       "    <tr>\n",
       "      <th>price</th>\n",
       "      <td>0</td>\n",
       "      <td>0.0</td>\n",
       "    </tr>\n",
       "  </tbody>\n",
       "</table>\n",
       "</div>"
      ],
      "text/plain": [
       "            Total  Percent\n",
       "year            0      0.0\n",
       "carname         0      0.0\n",
       "kms             0      0.0\n",
       "owner_type      0      0.0\n",
       "car_type        0      0.0\n",
       "price           0      0.0"
      ]
     },
     "execution_count": 35,
     "metadata": {},
     "output_type": "execute_result"
    }
   ],
   "source": [
    "missing_data(data= df)"
   ]
  },
  {
   "cell_type": "markdown",
   "metadata": {},
   "source": [
    "As from above dataframe, my observation on missing data are: \n",
    "<UL>\n",
    "   <li>There is no missing values in our dataset.\n",
    "   <li>Therefore there is no need of data cleaning.\n",
    "</UL>"
   ]
  },
  {
   "cell_type": "code",
   "execution_count": 37,
   "metadata": {},
   "outputs": [
    {
     "name": "stdout",
     "output_type": "stream",
     "text": [
      "'Fuel_Type' variable have 415 unique category : ['PetrolUP-32' 'PetrolDL-3C' 'etrolUP-14' 'etrolDL-7C' 'PetrolDL-2C'\n",
      " 'PetrolDL-7C' 'etrolDL-10' 'PetrolDL-9C' 'PetrolDL-8C' 'PetrolDL-5C'\n",
      " 'PetrolDL-4C' 'PetrolDL-11' 'Petrol + CNGDL-3C' 'PetrolDL-12'\n",
      " 'PetrolHR-26' 'etrolDL-12' 'etrolDL-9C' 'etrolDL-3C' 'etrolDL-8C'\n",
      " 'PetrolUP-21' 'PetrolUP-15' 'PetrolHR-29' 'PetrolHR-51'\n",
      " 'Petrol + CNGHR-02' 'DieselDL-10' 'DieselDL-8C' 'DieselDL-12'\n",
      " 'DieselUP-16' 'DieselHR-51' 'DieselDL-14' 'PetrolDL-1C' 'PetrolDL-10'\n",
      " 'PetrolDL-14' 'DieselDL-1C' 'DieselDL-2C' 'DieselUP-14' 'DieselHR-26'\n",
      " 'DieselHR-30' 'PetrolUP-14' 'etrolDL-6C' 'PetrolHR-98' 'PetrolHR-16'\n",
      " 'PetrolHR-27' 'PetrolDL-6C' 'PetrolUP-16' 'etrolUP-16' 'etrolHR-26'\n",
      " 'etrolDL-11' 'etrolHR-11' 'etrolDL-5C' 'Petrol + CNGHR-51' 'PetrolHR-06'\n",
      " 'ieselUP-16' 'DieselUP-15' 'PetrolKA-41' 'PetrolKA-51' 'PetrolKA-03'\n",
      " 'etrolKA-02' 'PetrolKA-01' 'PetrolKA-11' 'PetrolKA-53' 'PetrolKA-05'\n",
      " 'PetrolKA-08' 'etrolKA-51' 'PetrolKA-46' 'PetrolKA-02' 'DieselKA-51'\n",
      " 'DieselKA-01' 'PetrolKA-04' 'DieselKA-25' 'DieselKA-63' 'DieselKA-53'\n",
      " 'DieselKA-03' 'DieselKA-05' 'DieselKA-04' 'ieselKA-05' 'DieselKA-50'\n",
      " 'DieselKA-02' 'DieselKA-44' 'etrolKA-05' 'etrolKA-25' 'PetrolKA-17'\n",
      " 'PetrolKA-22' 'etrolKA-03' 'erDieselKA-51' 'rolKA-01' 'PetrolKA-19'\n",
      " 'etrolKA-53' 'etrol + CNGKA-27' 'PetrolKA-50' 'etrolKA-04' 'PetrolKA-27'\n",
      " 'PetrolKA-21' 'DieselKA-41' 'DieselKA-37' 'DieselKA-22' 'etrolKA-01'\n",
      " 'PetrolKA-26' 'PetrolTN-12' 'etrolTN-09' 'etrolTN-12' 'PetrolTN-85'\n",
      " 'PetrolTN-07' 'PetrolTN-01' 'PetrolTN-11' 'etrolTN-06' 'PetrolTN-14'\n",
      " 'PetrolTN-91' 'DieselTN-21' 'PetrolTN-06' 'DieselTN-55' 'DieselTN-31'\n",
      " 'DieselTN-05' 'PetrolTN-09' 'etrolTN-04' 'PetrolTN-22' 'etrolTN-13'\n",
      " 'PetrolTN-60' 'PetrolTN-20' 'PetrolTN-19' 'PetrolTN-05' 'PetrolTN-10'\n",
      " 'PetrolTN-21' 'PetrolTN-02' 'DieselTN-10' 'DieselTN-06' 'PetrolTN-50'\n",
      " 'DieselTN-04' 'DieselTN-01' 'DieselTN-02' 'PetrolTN-23' 'DieselTN-14'\n",
      " 'DieselTN-09' 'DieselTN-19' 'PetrolTN-81' 'PetrolTN-61' 'DieselTN-11'\n",
      " 'PetrolTN-38' 'etrolTN-18' 'etrolTN-32' 'PetrolTN-03' 'PetrolTN-87'\n",
      " 'PetrolTN-13' 'PetrolTN-18' 'rolTN-10' 'ieselTN-22' 'etrolTN-05'\n",
      " 'etrolTN-85' 'etrolTN-10' 'ieselTN-23' 'DieselTN-18' 'PetrolTN-59'\n",
      " 'DieselTN-70' 'DieselTN-22' 'DieselTN-85' 'DieselTN-12' 'etrolTN-01'\n",
      " 'PetrolTN-42' 'DieselTN-13' 'DieselTN-65' 'PetrolMH-46'\n",
      " 'Petrol + CNGMH-46' 'PetrolMH-31' 'PetrolMH-05' 'PetrolMH-01'\n",
      " 'PetrolMH-03' 'PetrolMH-02' 'PetrolMH-47' 'PetrolMH-04' 'PetrolMH-43'\n",
      " 'PetrolMH-48' 'etrolMH-05' 'etrolMH-46' 'etrolMH-47' 'etrolMH-02'\n",
      " 'DieselMH-03' 'etrolMH-04' 'DieselMH-02' 'ieselMH-02' 'etrolMH-01'\n",
      " 'DieselMH-46' 'DieselMH-04' 'ieselMH-04' 'DieselMH-47' 'DieselMH-43'\n",
      " 'erDieselMH-02' 'PetrolMH-14' 'PetrolMH-20' 'DieselMH-05' 'erPetrolMH-12'\n",
      " 'Petrol + CNGMH-04' 'Petrol + CNGMH-05' 'Petrol + CNGMH-47'\n",
      " 'etrol + CNGMH-46' 'Petrol + CNGMH-43' 'rolMH-47' 'DieselMH-01'\n",
      " 'etrolMH-03' 'DieselMH-09' 'DieselMH-48' 'PetrolMH-49' 'PetrolMH-12'\n",
      " 'PetrolMH-11' 'etrolMH-12' 'Petrol + CNGMH-14' 'etrolMH-14' 'DieselMH-12'\n",
      " 'DieselMH-14' 'selMH-03' 'rolMH-14' 'PetrolMH-24' 'Petrol + CNGMH-12'\n",
      " 'PetrolMH-08' 'etrol + CNGMH-12' 'PetrolMH-10' 'DieselMH-06'\n",
      " 'PetrolMH-15' 'PetrolMH-17' 'DieselMH-11' 'etrol + CNGMH-04'\n",
      " 'PetrolAP-29' 'PetrolAP-28' 'PetrolAP-09' 'PetrolAP-23' 'PetrolAP-05'\n",
      " 'DieselTS-07' 'PetrolTS-10' 'DieselTS-11' 'PetrolTS-08' 'PetrolAP-36'\n",
      " 'PetrolTS-09' 'PetrolTS-07' 'PetrolTS-12' 'PetrolTS-13' 'etrolTS-07'\n",
      " 'PetrolTS-17' 'DieselTS-06' 'PetrolAP-21' 'DieselTS-09' 'DieselAP-39'\n",
      " 'DieselTS-16' 'DieselTS-08' 'DieselTS-10' 'PetrolAP-10' 'PetrolTS-15'\n",
      " 'PetrolAP-11' 'PetrolAP-13' 'PetrolAP-39' 'PetrolTS-05' 'erPetrolAP-37'\n",
      " 'PetrolTS-11' 'PetrolAP-16' 'PetrolTS-04' 'DieselTS-15' 'DieselAP-09'\n",
      " 'DieselAP-16' 'DieselAP-21' 'etrolWB-10' 'rolWB-10' 'PetrolWB-02'\n",
      " 'PetrolWB-30' 'PetrolWB-12' 'PetrolWB-26' 'PetrolWB-10' 'DieselWB-08'\n",
      " 'PetrolWB-24' 'etrolWB-06' 'etrolWB-20' 'etrolWB-12' 'PetrolWB-06'\n",
      " 'ieselWB-20' 'DieselWB-24' 'DieselWB-10' 'DieselWB-02' 'DieselWB-96'\n",
      " 'DieselWB-38' 'DieselWB-26' 'PetrolWB-40' 'erDieselWB-02' 'DieselWB-06'\n",
      " 'erDieselWB-20' 'PetrolWB-08' 'etrolWB-02' 'etrolWB-08' 'PetrolWB-20'\n",
      " 'erPetrolWB-02' 'etrolWB-26' 'PetrolWB-18' 'ieselWB-08' 'PetrolGJ-06'\n",
      " 'PetrolGJ-01' 'DieselGJ-38' 'PetrolGJ-23' 'DieselGJ-01' 'etrolGJ-01'\n",
      " 'etrolGJ-06' 'PetrolGJ-05' 'DieselGJ-16' 'PetrolGJ-27' 'PetrolPB-02'\n",
      " 'PetrolGJ-07' 'Petrol + CNGGJ-01' 'etrolGJ-18' 'PetrolGJ-15'\n",
      " 'PetrolGJ-18' 'PetrolGJ-32' 'DieselGJ-05' 'etrolGJ-05' 'etrolGJ-03'\n",
      " 'ieselGJ-01' 'etrolGJ-23' 'DieselGJ-18' 'PetrolGJ-02' 'erDieselGJ-01'\n",
      " 'erDieselGJ-05' 'erDieselGJ-16' 'DieselGJ-27' 'PetrolKA-20' 'PetrolGJ-38'\n",
      " 'PetrolGJ-21' 'PetrolGJ-03' 'Petrol + CNGGJ-15' 'Petrol + CNGGJ-06'\n",
      " 'etrolGJ-27' 'Petrol + CNGGJ-18' 'PetrolGJ-22' 'DieselGJ-06'\n",
      " 'DieselGJ-15' 'DieselGJ-03' 'PetrolGJ-12' 'DieselGJ-19' 'erPetrolGJ-01'\n",
      " 'PetrolCH-01' 'etrolPB-70' 'erDieselHR-21' 'PetrolHR-49' 'PetrolHR-08'\n",
      " 'DieselPB-91' 'DieselCH-01' 'PetrolHR-85' 'etrolCH-01' 'PetrolPB-61'\n",
      " 'PetrolHR-01' 'PetrolHR-03' 'PetrolHR-70' 'PetrolHR-20' 'etrolHR-30'\n",
      " 'PetrolHR-02' 'erDieselHR-48' 'PetrolHR-75' 'PetrolPB-70' 'erDieselPB-10'\n",
      " 'DieselHR-01' 'ieselPB-10' 'ieselCH-01' 'DieselHR-03' 'DieselHR-21'\n",
      " 'DieselPB-10' 'erDieselHR-70' 'DieselHR-55' 'erDieselHR-55' 'DieselPB-65'\n",
      " 'erDieselHR-30' 'PetrolPB-08' 'DieselHR-29' 'erDieselHR-01'\n",
      " 'erDieselHR-26' 'DieselDL-7C' 'PetrolPB-65' 'etrolHR-85' 'DieselDL-6C'\n",
      " 'Petrol + CNGCH-01' 'DieselHR-13' 'PetrolHR-19' 'PetrolHR-86'\n",
      " 'DieselHR-20' 'DieselPB-13' 'DieselCh-01' 'PetrolRJ-45' 'erPetrolRJ-14'\n",
      " 'PetrolRJ-14' 'DieselRJ-06' 'DieselRJ-14' 'etrolRJ-45' 'PetrolRJ-41'\n",
      " 'PetrolRJ-24' 'PetrolRJ-19' 'etrolRJ-25' 'PetrolRJ-06' 'PetrolRJ-02'\n",
      " 'PetrolRJ-29' 'etrolRJ-14' 'PetrolRJ-23' 'PetrolRJ-32' 'DieselRJ-25'\n",
      " 'PetrolRJ-08' 'erDieselRJ-27' 'erDieselRJ-23' 'PetrolRJ-20' 'PetrolRJ-13'\n",
      " 'PetrolRJ-01' 'PetrolRJ-05' 'PetrolRJ-25' 'Petrol + CNGRJ-45'\n",
      " 'PetrolRJ-47' 'PetrolRJ-34' 'PetrolRJ-31' 'PetrolRJ-51' 'erPetrolRJ-45'\n",
      " 'DieselRJ-45' 'PetrolRJ-48' 'erPetrolRJ-07' 'DieselRJ-23' 'erDieselRJ-20'\n",
      " 'erDieselRJ-32']\n",
      "\n",
      "'Seller_Type' variable have 100 unique category : ['Hyundai Eon' 'Hyundai i10' 'Hyundai VENUE' 'Hyundai NEW I20'\n",
      " 'Hyundai Grand i10' 'Hyundai AURA' 'Hyundai i20' 'Renault Kwid'\n",
      " 'Renault Kiger' 'Renault Duster' 'Mahindra KUV 100 NXT'\n",
      " 'Mahindra Scorpio' 'Mahindra Kuv100' 'Mahindra Thar' 'Toyota Glanza'\n",
      " 'Toyota Fortuner' 'Toyota Corolla Altis' 'Toyota Etios' 'Toyota YARIS'\n",
      " 'Toyota Etios Liva' 'Audi Q5' 'Audi Q3' 'Audi A3' 'Audi A4' 'Honda City'\n",
      " 'Honda Jazz' 'Honda Amaze' 'Honda WR-V' 'Maruti Swift'\n",
      " 'Maruti Wagon R 1.0' 'Maruti New  Wagon-R' 'Maruti Baleno'\n",
      " 'Maruti Alto 800' 'Maruti Dzire' 'Maruti Swift Dzire' 'Maruti Alto K10'\n",
      " 'Maruti Vitara Brezza' 'Tata ALTROZ' 'Tata Tiago' 'Tata TIGOR'\n",
      " 'Tata NEXON' 'Tata Harrier' 'Ford Figo Aspire' 'Ford Ecosport'\n",
      " 'Skoda Rapid' 'Skoda Octavia' 'Skoda Superb' 'Hyundai Santro Xing'\n",
      " 'Hyundai ALCAZAR' 'Hyundai Elite i20' 'Hyundai Verna' 'Renault Pulse'\n",
      " 'Renault TRIBER' 'Mahindra XUV500' 'Mahindra TUV300' 'Mahindra XUV 3OO'\n",
      " 'Mahindra MARAZZO' 'Toyota URBAN CRUISER' 'Audi A6' 'Honda Brio'\n",
      " 'Honda CRV' 'Maruti Ritz' 'Maruti Ertiga' 'Maruti S PRESSO' 'Maruti Eeco'\n",
      " 'Tata Safari' 'Tata PUNCH' 'Ford Figo' 'Ford FREESTYLE' 'Skoda KUSHAQ'\n",
      " 'Hyundai GRAND I10 NIOS' 'Hyundai NEW SANTRO' 'Hyundai New Elantra'\n",
      " 'Hyundai Creta' 'Toyota Innova Crysta' 'Maruti Zen Estilo'\n",
      " 'Maruti Celerio' 'Tata Hexa' 'Skoda SLAVIA' 'Hyundai Xcent'\n",
      " 'Hyundai Sonata' 'Toyota Innova' 'Toyota Camry' 'Ford New Figo'\n",
      " 'Ford Endeavour' 'Renault Captur' 'Tata Zest' 'Mahindra BOLERO NEO'\n",
      " 'SKODA SLAVIA' 'Honda Civic' 'Mahindra Bolero' 'Maruti Alto'\n",
      " 'Maruti Celerio X' 'Skoda KAROQ' 'Skoda Fabia' 'Mahindra XUV700'\n",
      " 'Honda Accord' 'Maruti Ciaz' 'Skoda Laura' 'Tata TIAGO NRG']\n",
      "\n",
      "'Transmission' variable have 1261 unique category : ['₹2,09,899' '₹3,01,299' '₹9,68,199' ... '₹5,80,099' '₹6,55,199'\n",
      " '₹2,54,310']\n",
      "\n"
     ]
    },
    {
     "ename": "KeyError",
     "evalue": "'owner_type\\t'",
     "output_type": "error",
     "traceback": [
      "\u001b[1;31m---------------------------------------------------------------------------\u001b[0m",
      "\u001b[1;31mKeyError\u001b[0m                                  Traceback (most recent call last)",
      "File \u001b[1;32m~\\anaconda3\\lib\\site-packages\\pandas\\core\\indexes\\base.py:3621\u001b[0m, in \u001b[0;36mIndex.get_loc\u001b[1;34m(self, key, method, tolerance)\u001b[0m\n\u001b[0;32m   3620\u001b[0m \u001b[38;5;28;01mtry\u001b[39;00m:\n\u001b[1;32m-> 3621\u001b[0m     \u001b[38;5;28;01mreturn\u001b[39;00m \u001b[38;5;28;43mself\u001b[39;49m\u001b[38;5;241;43m.\u001b[39;49m\u001b[43m_engine\u001b[49m\u001b[38;5;241;43m.\u001b[39;49m\u001b[43mget_loc\u001b[49m\u001b[43m(\u001b[49m\u001b[43mcasted_key\u001b[49m\u001b[43m)\u001b[49m\n\u001b[0;32m   3622\u001b[0m \u001b[38;5;28;01mexcept\u001b[39;00m \u001b[38;5;167;01mKeyError\u001b[39;00m \u001b[38;5;28;01mas\u001b[39;00m err:\n",
      "File \u001b[1;32m~\\anaconda3\\lib\\site-packages\\pandas\\_libs\\index.pyx:136\u001b[0m, in \u001b[0;36mpandas._libs.index.IndexEngine.get_loc\u001b[1;34m()\u001b[0m\n",
      "File \u001b[1;32m~\\anaconda3\\lib\\site-packages\\pandas\\_libs\\index.pyx:163\u001b[0m, in \u001b[0;36mpandas._libs.index.IndexEngine.get_loc\u001b[1;34m()\u001b[0m\n",
      "File \u001b[1;32mpandas\\_libs\\hashtable_class_helper.pxi:5198\u001b[0m, in \u001b[0;36mpandas._libs.hashtable.PyObjectHashTable.get_item\u001b[1;34m()\u001b[0m\n",
      "File \u001b[1;32mpandas\\_libs\\hashtable_class_helper.pxi:5206\u001b[0m, in \u001b[0;36mpandas._libs.hashtable.PyObjectHashTable.get_item\u001b[1;34m()\u001b[0m\n",
      "\u001b[1;31mKeyError\u001b[0m: 'owner_type\\t'",
      "\nThe above exception was the direct cause of the following exception:\n",
      "\u001b[1;31mKeyError\u001b[0m                                  Traceback (most recent call last)",
      "Input \u001b[1;32mIn [37]\u001b[0m, in \u001b[0;36m<cell line: 6>\u001b[1;34m()\u001b[0m\n\u001b[0;32m      2\u001b[0m \u001b[38;5;28mprint\u001b[39m(\u001b[38;5;124m\"\u001b[39m\u001b[38;5;124m'\u001b[39m\u001b[38;5;124mSeller_Type\u001b[39m\u001b[38;5;124m'\u001b[39m\u001b[38;5;124m variable have \u001b[39m\u001b[38;5;132;01m{}\u001b[39;00m\u001b[38;5;124m unique category : \u001b[39m\u001b[38;5;132;01m{}\u001b[39;00m\u001b[38;5;130;01m\\n\u001b[39;00m\u001b[38;5;124m\"\u001b[39m\u001b[38;5;241m.\u001b[39mformat(df[\u001b[38;5;124m'\u001b[39m\u001b[38;5;124mcarname\u001b[39m\u001b[38;5;124m'\u001b[39m]\u001b[38;5;241m.\u001b[39mnunique(), \\\n\u001b[0;32m      3\u001b[0m                                                                      df[\u001b[38;5;124m'\u001b[39m\u001b[38;5;124mcarname\u001b[39m\u001b[38;5;124m'\u001b[39m]\u001b[38;5;241m.\u001b[39munique()))\n\u001b[0;32m      4\u001b[0m \u001b[38;5;28mprint\u001b[39m(\u001b[38;5;124m\"\u001b[39m\u001b[38;5;124m'\u001b[39m\u001b[38;5;124mTransmission\u001b[39m\u001b[38;5;124m'\u001b[39m\u001b[38;5;124m variable have \u001b[39m\u001b[38;5;132;01m{}\u001b[39;00m\u001b[38;5;124m unique category : \u001b[39m\u001b[38;5;132;01m{}\u001b[39;00m\u001b[38;5;130;01m\\n\u001b[39;00m\u001b[38;5;124m\"\u001b[39m\u001b[38;5;241m.\u001b[39mformat(df[\u001b[38;5;124m'\u001b[39m\u001b[38;5;124mprice\u001b[39m\u001b[38;5;124m'\u001b[39m]\u001b[38;5;241m.\u001b[39mnunique(), \\\n\u001b[0;32m      5\u001b[0m                                                                     df[\u001b[38;5;124m'\u001b[39m\u001b[38;5;124mprice\u001b[39m\u001b[38;5;124m'\u001b[39m]\u001b[38;5;241m.\u001b[39munique()))\n\u001b[1;32m----> 6\u001b[0m \u001b[38;5;28mprint\u001b[39m(\u001b[38;5;124m\"\u001b[39m\u001b[38;5;124m'\u001b[39m\u001b[38;5;124mOwner\u001b[39m\u001b[38;5;124m'\u001b[39m\u001b[38;5;124m variable have \u001b[39m\u001b[38;5;132;01m{}\u001b[39;00m\u001b[38;5;124m unique category : \u001b[39m\u001b[38;5;132;01m{}\u001b[39;00m\u001b[38;5;124m\"\u001b[39m\u001b[38;5;241m.\u001b[39mformat(\u001b[43mdf\u001b[49m\u001b[43m[\u001b[49m\u001b[38;5;124;43m'\u001b[39;49m\u001b[38;5;124;43mowner_type\t\u001b[39;49m\u001b[38;5;124;43m'\u001b[39;49m\u001b[43m]\u001b[49m\u001b[38;5;241m.\u001b[39mnunique(), df[\u001b[38;5;124m'\u001b[39m\u001b[38;5;124mowner_type\t\u001b[39m\u001b[38;5;124m'\u001b[39m]\u001b[38;5;241m.\u001b[39munique()))\n",
      "File \u001b[1;32m~\\anaconda3\\lib\\site-packages\\pandas\\core\\frame.py:3505\u001b[0m, in \u001b[0;36mDataFrame.__getitem__\u001b[1;34m(self, key)\u001b[0m\n\u001b[0;32m   3503\u001b[0m \u001b[38;5;28;01mif\u001b[39;00m \u001b[38;5;28mself\u001b[39m\u001b[38;5;241m.\u001b[39mcolumns\u001b[38;5;241m.\u001b[39mnlevels \u001b[38;5;241m>\u001b[39m \u001b[38;5;241m1\u001b[39m:\n\u001b[0;32m   3504\u001b[0m     \u001b[38;5;28;01mreturn\u001b[39;00m \u001b[38;5;28mself\u001b[39m\u001b[38;5;241m.\u001b[39m_getitem_multilevel(key)\n\u001b[1;32m-> 3505\u001b[0m indexer \u001b[38;5;241m=\u001b[39m \u001b[38;5;28;43mself\u001b[39;49m\u001b[38;5;241;43m.\u001b[39;49m\u001b[43mcolumns\u001b[49m\u001b[38;5;241;43m.\u001b[39;49m\u001b[43mget_loc\u001b[49m\u001b[43m(\u001b[49m\u001b[43mkey\u001b[49m\u001b[43m)\u001b[49m\n\u001b[0;32m   3506\u001b[0m \u001b[38;5;28;01mif\u001b[39;00m is_integer(indexer):\n\u001b[0;32m   3507\u001b[0m     indexer \u001b[38;5;241m=\u001b[39m [indexer]\n",
      "File \u001b[1;32m~\\anaconda3\\lib\\site-packages\\pandas\\core\\indexes\\base.py:3623\u001b[0m, in \u001b[0;36mIndex.get_loc\u001b[1;34m(self, key, method, tolerance)\u001b[0m\n\u001b[0;32m   3621\u001b[0m     \u001b[38;5;28;01mreturn\u001b[39;00m \u001b[38;5;28mself\u001b[39m\u001b[38;5;241m.\u001b[39m_engine\u001b[38;5;241m.\u001b[39mget_loc(casted_key)\n\u001b[0;32m   3622\u001b[0m \u001b[38;5;28;01mexcept\u001b[39;00m \u001b[38;5;167;01mKeyError\u001b[39;00m \u001b[38;5;28;01mas\u001b[39;00m err:\n\u001b[1;32m-> 3623\u001b[0m     \u001b[38;5;28;01mraise\u001b[39;00m \u001b[38;5;167;01mKeyError\u001b[39;00m(key) \u001b[38;5;28;01mfrom\u001b[39;00m \u001b[38;5;21;01merr\u001b[39;00m\n\u001b[0;32m   3624\u001b[0m \u001b[38;5;28;01mexcept\u001b[39;00m \u001b[38;5;167;01mTypeError\u001b[39;00m:\n\u001b[0;32m   3625\u001b[0m     \u001b[38;5;66;03m# If we have a listlike key, _check_indexing_error will raise\u001b[39;00m\n\u001b[0;32m   3626\u001b[0m     \u001b[38;5;66;03m#  InvalidIndexError. Otherwise we fall through and re-raise\u001b[39;00m\n\u001b[0;32m   3627\u001b[0m     \u001b[38;5;66;03m#  the TypeError.\u001b[39;00m\n\u001b[0;32m   3628\u001b[0m     \u001b[38;5;28mself\u001b[39m\u001b[38;5;241m.\u001b[39m_check_indexing_error(key)\n",
      "\u001b[1;31mKeyError\u001b[0m: 'owner_type\\t'"
     ]
    }
   ],
   "source": [
    "print(\"'Fuel_Type' variable have {} unique category : {}\\n\".format(df['car_type'].nunique(), df['car_type'].unique()))\n",
    "print(\"'Seller_Type' variable have {} unique category : {}\\n\".format(df['carname'].nunique(), \\\n",
    "                                                                     df['carname'].unique()))\n",
    "print(\"'Transmission' variable have {} unique category : {}\\n\".format(df['price'].nunique(), \\\n",
    "                                                                    df['price'].unique()))\n",
    "print(\"'Owner' variable have {} unique category : {}\".format(df['owner_type\t'].nunique(), df['owner_type\t'].unique()))"
   ]
  },
  {
   "cell_type": "code",
   "execution_count": 39,
   "metadata": {},
   "outputs": [
    {
     "name": "stdout",
     "output_type": "stream",
     "text": [
      "'Owner' variable have 13 unique category : ['1st Owner' '2nd Owner' 'st OwnerP' '3rd Owner' 'nd OwnerP' 'st OwnerD'\n",
      " 'km1st Own' ' OwnerPet' 'nd OwnerD' ' OwnerDie' 'km2nd Own' 'km3rd Own'\n",
      " '4th Owner']\n"
     ]
    }
   ],
   "source": [
    "df['owner_type'].replace(to_replace=3, value=2, inplace= True)\n",
    "print(\"'Owner' variable have {} unique category : {}\".format(df['owner_type'].nunique(), df['owner_type'].unique()))"
   ]
  },
  {
   "cell_type": "code",
   "execution_count": 8,
   "metadata": {},
   "outputs": [
    {
     "data": {
      "text/html": [
       "<div>\n",
       "<style scoped>\n",
       "    .dataframe tbody tr th:only-of-type {\n",
       "        vertical-align: middle;\n",
       "    }\n",
       "\n",
       "    .dataframe tbody tr th {\n",
       "        vertical-align: top;\n",
       "    }\n",
       "\n",
       "    .dataframe thead th {\n",
       "        text-align: right;\n",
       "    }\n",
       "</style>\n",
       "<table border=\"1\" class=\"dataframe\">\n",
       "  <thead>\n",
       "    <tr style=\"text-align: right;\">\n",
       "      <th></th>\n",
       "      <th>Year</th>\n",
       "      <th>Selling_Price</th>\n",
       "      <th>Present_Price</th>\n",
       "      <th>Kms_Driven</th>\n",
       "      <th>Owner</th>\n",
       "    </tr>\n",
       "  </thead>\n",
       "  <tbody>\n",
       "    <tr>\n",
       "      <th>count</th>\n",
       "      <td>301.000000</td>\n",
       "      <td>301.000000</td>\n",
       "      <td>301.000000</td>\n",
       "      <td>301.000000</td>\n",
       "      <td>301.000000</td>\n",
       "    </tr>\n",
       "    <tr>\n",
       "      <th>mean</th>\n",
       "      <td>2013.627907</td>\n",
       "      <td>4.661296</td>\n",
       "      <td>7.628472</td>\n",
       "      <td>36947.205980</td>\n",
       "      <td>0.039867</td>\n",
       "    </tr>\n",
       "    <tr>\n",
       "      <th>std</th>\n",
       "      <td>2.891554</td>\n",
       "      <td>5.082812</td>\n",
       "      <td>8.644115</td>\n",
       "      <td>38886.883882</td>\n",
       "      <td>0.212302</td>\n",
       "    </tr>\n",
       "    <tr>\n",
       "      <th>min</th>\n",
       "      <td>2003.000000</td>\n",
       "      <td>0.100000</td>\n",
       "      <td>0.320000</td>\n",
       "      <td>500.000000</td>\n",
       "      <td>0.000000</td>\n",
       "    </tr>\n",
       "    <tr>\n",
       "      <th>25%</th>\n",
       "      <td>2012.000000</td>\n",
       "      <td>0.900000</td>\n",
       "      <td>1.200000</td>\n",
       "      <td>15000.000000</td>\n",
       "      <td>0.000000</td>\n",
       "    </tr>\n",
       "    <tr>\n",
       "      <th>50%</th>\n",
       "      <td>2014.000000</td>\n",
       "      <td>3.600000</td>\n",
       "      <td>6.400000</td>\n",
       "      <td>32000.000000</td>\n",
       "      <td>0.000000</td>\n",
       "    </tr>\n",
       "    <tr>\n",
       "      <th>75%</th>\n",
       "      <td>2016.000000</td>\n",
       "      <td>6.000000</td>\n",
       "      <td>9.900000</td>\n",
       "      <td>48767.000000</td>\n",
       "      <td>0.000000</td>\n",
       "    </tr>\n",
       "    <tr>\n",
       "      <th>max</th>\n",
       "      <td>2018.000000</td>\n",
       "      <td>35.000000</td>\n",
       "      <td>92.600000</td>\n",
       "      <td>500000.000000</td>\n",
       "      <td>2.000000</td>\n",
       "    </tr>\n",
       "  </tbody>\n",
       "</table>\n",
       "</div>"
      ],
      "text/plain": [
       "              Year  Selling_Price  Present_Price     Kms_Driven       Owner\n",
       "count   301.000000     301.000000     301.000000     301.000000  301.000000\n",
       "mean   2013.627907       4.661296       7.628472   36947.205980    0.039867\n",
       "std       2.891554       5.082812       8.644115   38886.883882    0.212302\n",
       "min    2003.000000       0.100000       0.320000     500.000000    0.000000\n",
       "25%    2012.000000       0.900000       1.200000   15000.000000    0.000000\n",
       "50%    2014.000000       3.600000       6.400000   32000.000000    0.000000\n",
       "75%    2016.000000       6.000000       9.900000   48767.000000    0.000000\n",
       "max    2018.000000      35.000000      92.600000  500000.000000    2.000000"
      ]
     },
     "execution_count": 8,
     "metadata": {},
     "output_type": "execute_result"
    }
   ],
   "source": [
    "# Descriptive statistical summary of numerical features\n",
    "df.describe()"
   ]
  },
  {
   "cell_type": "code",
   "execution_count": 9,
   "metadata": {},
   "outputs": [
    {
     "data": {
      "text/html": [
       "<div>\n",
       "<style scoped>\n",
       "    .dataframe tbody tr th:only-of-type {\n",
       "        vertical-align: middle;\n",
       "    }\n",
       "\n",
       "    .dataframe tbody tr th {\n",
       "        vertical-align: top;\n",
       "    }\n",
       "\n",
       "    .dataframe thead th {\n",
       "        text-align: right;\n",
       "    }\n",
       "</style>\n",
       "<table border=\"1\" class=\"dataframe\">\n",
       "  <thead>\n",
       "    <tr style=\"text-align: right;\">\n",
       "      <th></th>\n",
       "      <th>Car_Name</th>\n",
       "      <th>Fuel_Type</th>\n",
       "      <th>Seller_Type</th>\n",
       "      <th>Transmission</th>\n",
       "    </tr>\n",
       "  </thead>\n",
       "  <tbody>\n",
       "    <tr>\n",
       "      <th>count</th>\n",
       "      <td>301</td>\n",
       "      <td>301</td>\n",
       "      <td>301</td>\n",
       "      <td>301</td>\n",
       "    </tr>\n",
       "    <tr>\n",
       "      <th>unique</th>\n",
       "      <td>98</td>\n",
       "      <td>3</td>\n",
       "      <td>2</td>\n",
       "      <td>2</td>\n",
       "    </tr>\n",
       "    <tr>\n",
       "      <th>top</th>\n",
       "      <td>city</td>\n",
       "      <td>Petrol</td>\n",
       "      <td>Dealer</td>\n",
       "      <td>Manual</td>\n",
       "    </tr>\n",
       "    <tr>\n",
       "      <th>freq</th>\n",
       "      <td>26</td>\n",
       "      <td>239</td>\n",
       "      <td>195</td>\n",
       "      <td>261</td>\n",
       "    </tr>\n",
       "  </tbody>\n",
       "</table>\n",
       "</div>"
      ],
      "text/plain": [
       "       Car_Name Fuel_Type Seller_Type Transmission\n",
       "count       301       301         301          301\n",
       "unique       98         3           2            2\n",
       "top        city    Petrol      Dealer       Manual\n",
       "freq         26       239         195          261"
      ]
     },
     "execution_count": 9,
     "metadata": {},
     "output_type": "execute_result"
    }
   ],
   "source": [
    "# Descriptive statistical summary of categorical features\n",
    "df.describe(include= 'object')"
   ]
  },
  {
   "cell_type": "markdown",
   "metadata": {},
   "source": [
    "<h3>Feature Engineering</h3><a id=\"3\"></a>\n",
    "Here, I'll derive new feature from feature 'Year'."
   ]
  },
  {
   "cell_type": "code",
   "execution_count": 40,
   "metadata": {},
   "outputs": [
    {
     "data": {
      "text/plain": [
       "Index(['year', 'carname', 'kms', 'owner_type', 'car_type', 'price'], dtype='object')"
      ]
     },
     "execution_count": 40,
     "metadata": {},
     "output_type": "execute_result"
    }
   ],
   "source": [
    "# Let's see all column names\n",
    "df.columns"
   ]
  },
  {
   "cell_type": "markdown",
   "metadata": {},
   "source": [
    "Here, I'll derive new feature from 'Year' to calculate how many year old the car is."
   ]
  },
  {
   "cell_type": "code",
   "execution_count": 43,
   "metadata": {},
   "outputs": [
    {
     "data": {
      "text/html": [
       "<div>\n",
       "<style scoped>\n",
       "    .dataframe tbody tr th:only-of-type {\n",
       "        vertical-align: middle;\n",
       "    }\n",
       "\n",
       "    .dataframe tbody tr th {\n",
       "        vertical-align: top;\n",
       "    }\n",
       "\n",
       "    .dataframe thead th {\n",
       "        text-align: right;\n",
       "    }\n",
       "</style>\n",
       "<table border=\"1\" class=\"dataframe\">\n",
       "  <thead>\n",
       "    <tr style=\"text-align: right;\">\n",
       "      <th></th>\n",
       "      <th>year</th>\n",
       "      <th>carname</th>\n",
       "      <th>kms</th>\n",
       "      <th>owner_type</th>\n",
       "      <th>car_type</th>\n",
       "      <th>price</th>\n",
       "      <th>No_of_Years</th>\n",
       "      <th>current_year</th>\n",
       "    </tr>\n",
       "  </thead>\n",
       "  <tbody>\n",
       "    <tr>\n",
       "      <th>0</th>\n",
       "      <td>2020</td>\n",
       "      <td>Hyundai Eon</td>\n",
       "      <td>11,989 km</td>\n",
       "      <td>1st Owner</td>\n",
       "      <td>PetrolUP-32</td>\n",
       "      <td>₹2,09,899</td>\n",
       "      <td>0</td>\n",
       "      <td>2020</td>\n",
       "    </tr>\n",
       "    <tr>\n",
       "      <th>1</th>\n",
       "      <td>2020</td>\n",
       "      <td>Hyundai i10</td>\n",
       "      <td>35,317 km</td>\n",
       "      <td>2nd Owner</td>\n",
       "      <td>PetrolDL-3C</td>\n",
       "      <td>₹3,01,299</td>\n",
       "      <td>0</td>\n",
       "      <td>2020</td>\n",
       "    </tr>\n",
       "    <tr>\n",
       "      <th>2</th>\n",
       "      <td>2020</td>\n",
       "      <td>Hyundai VENUE</td>\n",
       "      <td>9,463 km1</td>\n",
       "      <td>st OwnerP</td>\n",
       "      <td>etrolUP-14</td>\n",
       "      <td>₹9,68,199</td>\n",
       "      <td>0</td>\n",
       "      <td>2020</td>\n",
       "    </tr>\n",
       "    <tr>\n",
       "      <th>3</th>\n",
       "      <td>2020</td>\n",
       "      <td>Hyundai NEW I20</td>\n",
       "      <td>5,992 km1</td>\n",
       "      <td>st OwnerP</td>\n",
       "      <td>etrolDL-7C</td>\n",
       "      <td>₹10,59,099</td>\n",
       "      <td>0</td>\n",
       "      <td>2020</td>\n",
       "    </tr>\n",
       "    <tr>\n",
       "      <th>4</th>\n",
       "      <td>2020</td>\n",
       "      <td>Hyundai NEW I20</td>\n",
       "      <td>2,806 km1</td>\n",
       "      <td>st OwnerP</td>\n",
       "      <td>etrolUP-14</td>\n",
       "      <td>₹7,56,599</td>\n",
       "      <td>0</td>\n",
       "      <td>2020</td>\n",
       "    </tr>\n",
       "  </tbody>\n",
       "</table>\n",
       "</div>"
      ],
      "text/plain": [
       "   year          carname        kms owner_type     car_type       price  \\\n",
       "0  2020      Hyundai Eon  11,989 km  1st Owner  PetrolUP-32   ₹2,09,899   \n",
       "1  2020      Hyundai i10  35,317 km  2nd Owner  PetrolDL-3C   ₹3,01,299   \n",
       "2  2020    Hyundai VENUE  9,463 km1  st OwnerP   etrolUP-14   ₹9,68,199   \n",
       "3  2020  Hyundai NEW I20  5,992 km1  st OwnerP   etrolDL-7C  ₹10,59,099   \n",
       "4  2020  Hyundai NEW I20  2,806 km1  st OwnerP   etrolUP-14   ₹7,56,599   \n",
       "\n",
       "   No_of_Years  current_year  \n",
       "0            0          2020  \n",
       "1            0          2020  \n",
       "2            0          2020  \n",
       "3            0          2020  \n",
       "4            0          2020  "
      ]
     },
     "execution_count": 43,
     "metadata": {},
     "output_type": "execute_result"
    }
   ],
   "source": [
    "# Let's create a new variable 'Current_Year'\n",
    "df['current_year'] = 2020\n",
    "\n",
    "# To Calculate how old the car is, I created new feature \"No_of_Years\"\n",
    "df['No_of_Years'] = df['current_year'] - df['year']\n",
    "\n",
    "df.head()"
   ]
  },
  {
   "cell_type": "markdown",
   "metadata": {},
   "source": [
    "#### Remove features"
   ]
  },
  {
   "cell_type": "code",
   "execution_count": 45,
   "metadata": {},
   "outputs": [
    {
     "data": {
      "text/html": [
       "<div>\n",
       "<style scoped>\n",
       "    .dataframe tbody tr th:only-of-type {\n",
       "        vertical-align: middle;\n",
       "    }\n",
       "\n",
       "    .dataframe tbody tr th {\n",
       "        vertical-align: top;\n",
       "    }\n",
       "\n",
       "    .dataframe thead th {\n",
       "        text-align: right;\n",
       "    }\n",
       "</style>\n",
       "<table border=\"1\" class=\"dataframe\">\n",
       "  <thead>\n",
       "    <tr style=\"text-align: right;\">\n",
       "      <th></th>\n",
       "      <th>kms</th>\n",
       "      <th>owner_type</th>\n",
       "      <th>car_type</th>\n",
       "      <th>price</th>\n",
       "      <th>No_of_Years</th>\n",
       "    </tr>\n",
       "  </thead>\n",
       "  <tbody>\n",
       "    <tr>\n",
       "      <th>0</th>\n",
       "      <td>11,989 km</td>\n",
       "      <td>1st Owner</td>\n",
       "      <td>PetrolUP-32</td>\n",
       "      <td>₹2,09,899</td>\n",
       "      <td>0</td>\n",
       "    </tr>\n",
       "    <tr>\n",
       "      <th>1</th>\n",
       "      <td>35,317 km</td>\n",
       "      <td>2nd Owner</td>\n",
       "      <td>PetrolDL-3C</td>\n",
       "      <td>₹3,01,299</td>\n",
       "      <td>0</td>\n",
       "    </tr>\n",
       "    <tr>\n",
       "      <th>2</th>\n",
       "      <td>9,463 km1</td>\n",
       "      <td>st OwnerP</td>\n",
       "      <td>etrolUP-14</td>\n",
       "      <td>₹9,68,199</td>\n",
       "      <td>0</td>\n",
       "    </tr>\n",
       "    <tr>\n",
       "      <th>3</th>\n",
       "      <td>5,992 km1</td>\n",
       "      <td>st OwnerP</td>\n",
       "      <td>etrolDL-7C</td>\n",
       "      <td>₹10,59,099</td>\n",
       "      <td>0</td>\n",
       "    </tr>\n",
       "    <tr>\n",
       "      <th>4</th>\n",
       "      <td>2,806 km1</td>\n",
       "      <td>st OwnerP</td>\n",
       "      <td>etrolUP-14</td>\n",
       "      <td>₹7,56,599</td>\n",
       "      <td>0</td>\n",
       "    </tr>\n",
       "  </tbody>\n",
       "</table>\n",
       "</div>"
      ],
      "text/plain": [
       "         kms owner_type     car_type       price  No_of_Years\n",
       "0  11,989 km  1st Owner  PetrolUP-32   ₹2,09,899            0\n",
       "1  35,317 km  2nd Owner  PetrolDL-3C   ₹3,01,299            0\n",
       "2  9,463 km1  st OwnerP   etrolUP-14   ₹9,68,199            0\n",
       "3  5,992 km1  st OwnerP   etrolDL-7C  ₹10,59,099            0\n",
       "4  2,806 km1  st OwnerP   etrolUP-14   ₹7,56,599            0"
      ]
     },
     "execution_count": 45,
     "metadata": {},
     "output_type": "execute_result"
    }
   ],
   "source": [
    "final_df = df.copy()            # Creating copy of created dataframe\n",
    "final_df.drop(labels= ['carname','year', 'current_year'], axis= 1, inplace= True)          #droping unnecessary features\n",
    "\n",
    "final_df.head()"
   ]
  },
  {
   "cell_type": "markdown",
   "metadata": {},
   "source": [
    "<h2>Data Visualization</h2><a id=\"4\"></a>"
   ]
  },
  {
   "cell_type": "code",
   "execution_count": 60,
   "metadata": {},
   "outputs": [
    {
     "data": {
      "text/plain": [
       "<seaborn.axisgrid.PairGrid at 0x11d5aefd8b0>"
      ]
     },
     "execution_count": 60,
     "metadata": {},
     "output_type": "execute_result"
    },
    {
     "data": {
      "image/png": "[encoded data removed]",
      "text/plain": [
       "<Figure size 234.8x180 with 2 Axes>"
      ]
     },
     "metadata": {},
     "output_type": "display_data"
    }
   ],
   "source": [
    "sns.pairplot(data= final_df, hue= 'car_type', diag_kind= 'kde')"
   ]
  },
  {
   "cell_type": "code",
   "execution_count": 55,
   "metadata": {},
   "outputs": [
    {
     "ename": "ValueError",
     "evalue": "could not convert string to float: '₹2,09,899'",
     "output_type": "error",
     "traceback": [
      "\u001b[1;31m---------------------------------------------------------------------------\u001b[0m",
      "\u001b[1;31mValueError\u001b[0m                                Traceback (most recent call last)",
      "Input \u001b[1;32mIn [55]\u001b[0m, in \u001b[0;36m<cell line: 13>\u001b[1;34m()\u001b[0m\n\u001b[0;32m     10\u001b[0m ax3 \u001b[38;5;241m=\u001b[39m fig\u001b[38;5;241m.\u001b[39madd_subplot(\u001b[38;5;241m2\u001b[39m, \u001b[38;5;241m2\u001b[39m, \u001b[38;5;241m4\u001b[39m) \u001b[38;5;66;03m# add subplot 1 (2 row, 2 columns, fourth plot)\u001b[39;00m\n\u001b[0;32m     12\u001b[0m \u001b[38;5;66;03m# Subplot 1: Distplot of 'Selling_Price' feature\u001b[39;00m\n\u001b[1;32m---> 13\u001b[0m k1 \u001b[38;5;241m=\u001b[39m \u001b[43msns\u001b[49m\u001b[38;5;241;43m.\u001b[39;49m\u001b[43mdistplot\u001b[49m\u001b[43m(\u001b[49m\u001b[43ma\u001b[49m\u001b[43m \u001b[49m\u001b[38;5;241;43m=\u001b[39;49m\u001b[43m \u001b[49m\u001b[43mfinal_df\u001b[49m\u001b[43m[\u001b[49m\u001b[38;5;124;43m'\u001b[39;49m\u001b[38;5;124;43mprice\u001b[39;49m\u001b[38;5;124;43m'\u001b[39;49m\u001b[43m]\u001b[49m\u001b[43m,\u001b[49m\u001b[43m \u001b[49m\u001b[43mbins\u001b[49m\u001b[38;5;241;43m=\u001b[39;49m\u001b[43m \u001b[49m\u001b[38;5;241;43m25\u001b[39;49m\u001b[43m,\u001b[49m\u001b[43m \u001b[49m\u001b[43max\u001b[49m\u001b[38;5;241;43m=\u001b[39;49m\u001b[43max0\u001b[49m\u001b[43m)\u001b[49m \u001b[38;5;66;03m# add to subplot 1\u001b[39;00m\n\u001b[0;32m     14\u001b[0m ax0\u001b[38;5;241m.\u001b[39mset_title(\u001b[38;5;124m'\u001b[39m\u001b[38;5;124mDistribution of  Price\u001b[39m\u001b[38;5;124m'\u001b[39m, fontsize\u001b[38;5;241m=\u001b[39m\u001b[38;5;241m16\u001b[39m)\n\u001b[0;32m     15\u001b[0m ax0\u001b[38;5;241m.\u001b[39mset(xlabel\u001b[38;5;241m=\u001b[39m \u001b[38;5;124m'\u001b[39m\u001b[38;5;124m Price\u001b[39m\u001b[38;5;124m'\u001b[39m, ylabel\u001b[38;5;241m=\u001b[39m \u001b[38;5;124m'\u001b[39m\u001b[38;5;124mDensity\u001b[39m\u001b[38;5;124m'\u001b[39m)\n",
      "File \u001b[1;32m~\\anaconda3\\lib\\site-packages\\seaborn\\distributions.py:2636\u001b[0m, in \u001b[0;36mdistplot\u001b[1;34m(a, bins, hist, kde, rug, fit, hist_kws, kde_kws, rug_kws, fit_kws, color, vertical, norm_hist, axlabel, label, ax, x)\u001b[0m\n\u001b[0;32m   2633\u001b[0m     a \u001b[38;5;241m=\u001b[39m x\n\u001b[0;32m   2635\u001b[0m \u001b[38;5;66;03m# Make a a 1-d float array\u001b[39;00m\n\u001b[1;32m-> 2636\u001b[0m a \u001b[38;5;241m=\u001b[39m \u001b[43mnp\u001b[49m\u001b[38;5;241;43m.\u001b[39;49m\u001b[43masarray\u001b[49m\u001b[43m(\u001b[49m\u001b[43ma\u001b[49m\u001b[43m,\u001b[49m\u001b[43m \u001b[49m\u001b[38;5;28;43mfloat\u001b[39;49m\u001b[43m)\u001b[49m\n\u001b[0;32m   2637\u001b[0m \u001b[38;5;28;01mif\u001b[39;00m a\u001b[38;5;241m.\u001b[39mndim \u001b[38;5;241m>\u001b[39m \u001b[38;5;241m1\u001b[39m:\n\u001b[0;32m   2638\u001b[0m     a \u001b[38;5;241m=\u001b[39m a\u001b[38;5;241m.\u001b[39msqueeze()\n",
      "File \u001b[1;32m~\\anaconda3\\lib\\site-packages\\pandas\\core\\series.py:872\u001b[0m, in \u001b[0;36mSeries.__array__\u001b[1;34m(self, dtype)\u001b[0m\n\u001b[0;32m    825\u001b[0m \u001b[38;5;28;01mdef\u001b[39;00m \u001b[38;5;21m__array__\u001b[39m(\u001b[38;5;28mself\u001b[39m, dtype: npt\u001b[38;5;241m.\u001b[39mDTypeLike \u001b[38;5;241m|\u001b[39m \u001b[38;5;28;01mNone\u001b[39;00m \u001b[38;5;241m=\u001b[39m \u001b[38;5;28;01mNone\u001b[39;00m) \u001b[38;5;241m-\u001b[39m\u001b[38;5;241m>\u001b[39m np\u001b[38;5;241m.\u001b[39mndarray:\n\u001b[0;32m    826\u001b[0m     \u001b[38;5;124;03m\"\"\"\u001b[39;00m\n\u001b[0;32m    827\u001b[0m \u001b[38;5;124;03m    Return the values as a NumPy array.\u001b[39;00m\n\u001b[0;32m    828\u001b[0m \n\u001b[1;32m   (...)\u001b[0m\n\u001b[0;32m    870\u001b[0m \u001b[38;5;124;03m          dtype='datetime64[ns]')\u001b[39;00m\n\u001b[0;32m    871\u001b[0m \u001b[38;5;124;03m    \"\"\"\u001b[39;00m\n\u001b[1;32m--> 872\u001b[0m     \u001b[38;5;28;01mreturn\u001b[39;00m \u001b[43mnp\u001b[49m\u001b[38;5;241;43m.\u001b[39;49m\u001b[43masarray\u001b[49m\u001b[43m(\u001b[49m\u001b[38;5;28;43mself\u001b[39;49m\u001b[38;5;241;43m.\u001b[39;49m\u001b[43m_values\u001b[49m\u001b[43m,\u001b[49m\u001b[43m \u001b[49m\u001b[43mdtype\u001b[49m\u001b[43m)\u001b[49m\n",
      "\u001b[1;31mValueError\u001b[0m: could not convert string to float: '₹2,09,899'"
     ]
    },
    {
     "data": {
      "image/png": "[encoded data removed]",
      "text/plain": [
       "<Figure size 1440x1440 with 4 Axes>"
      ]
     },
     "metadata": {},
     "output_type": "display_data"
    }
   ],
   "source": [
    "\n",
    "# Let's see the distribution of the two variable from our data\n",
    "fig = plt.figure(figsize=(20,20)) # create figure\n",
    "\n",
    "sns.set(font_scale= 1)\n",
    "sns.set_style('darkgrid')\n",
    "\n",
    "ax0 = fig.add_subplot(2, 2, 1) # add subplot 1 (2 row, 2 columns, first plot)\n",
    "ax1 = fig.add_subplot(2, 2, 2) # add subplot 2 (2 row, 2 columns, second plot)\n",
    "ax2 = fig.add_subplot(2, 2, 3) # add subplot 1 (2 row, 2 columns, third plot)\n",
    "ax3 = fig.add_subplot(2, 2, 4) # add subplot 1 (2 row, 2 columns, fourth plot)\n",
    "\n",
    "# Subplot 1: Distplot of 'Selling_Price' feature\n",
    "k1 = sns.distplot(a = final_df['price'], bins= 25, ax=ax0) # add to subplot 1\n",
    "ax0.set_title('Distribution of  Price', fontsize=16)\n",
    "ax0.set(xlabel= ' Price', ylabel= 'Density')\n",
    "\n",
    "# Subplot 2: Distplot of 'Present_Price' feature\n",
    "# k2 = sns.distplot(a = final_df['Present_Price'], bins= 25, ax=ax1) # add to subplot 2           \n",
    "# ax1.set_title('Distribution of Present Price', fontsize=16)\n",
    "# ax1.set(xlabel= 'Present Price', ylabel= 'Density')\n",
    "\n",
    "# Subplot 3: Distplot of 'Kms_Driven' feature\n",
    "k1 = sns.distplot(a = final_df['kms'], bins= 25, ax=ax2) # add to subplot 3\n",
    "ax2.set_title('Distribution of Kilometers Driven', fontsize=16)\n",
    "ax2.set(xlabel= 'Kilometers Driven', ylabel= 'Density')\n",
    "\n",
    "# Subplot 4: Distplot of 'No_of_Years' feature\n",
    "k1 = sns.distplot(a = final_df['No_of_Years'], bins= 15, ax=ax3) # add to subplot 4\n",
    "ax3.set_title('Distribution of Number of Years', fontsize=16)\n",
    "ax3.set(xlabel= 'Number of Years', ylabel= 'Density')\n",
    "\n",
    "plt.show()\n",
    "#fig.savefig(\"Distributionplot.png\")"
   ]
  },
  {
   "cell_type": "code",
   "execution_count": 63,
   "metadata": {},
   "outputs": [
    {
     "name": "stdout",
     "output_type": "stream",
     "text": [
      "'No_of_Years' variable have 1 unique category : [0]\n"
     ]
    }
   ],
   "source": [
    "print(\"'No_of_Years' variable have {} unique category : {}\".format(final_df['No_of_Years'].nunique(), \n",
    "                                                                   final_df['No_of_Years'].unique()))"
   ]
  },
  {
   "cell_type": "code",
   "execution_count": null,
   "metadata": {},
   "outputs": [],
   "source": [
    "cat_col = list(final_df.columns[3:7])\n",
    "\n",
    "fig = plt.figure(figsize= (16,16))\n",
    "plt.suptitle('Categorical features value counts', fontsize = 24)\n",
    "k=0\n",
    "for i in range(1,5):\n",
    "    ax = fig.add_subplot(2,2,i) \n",
    "    cat_order = final_df[cat_col[k]].value_counts()\n",
    "    sns.countplot(data = final_df, x = cat_col[k], order = cat_order.index, ax= ax) \n",
    "    plt.xlabel(cat_col[k], fontsize=14)\n",
    "    plt.ylabel('Count', fontsize=14)\n",
    "    plt.title('{} Value Counts'.format(cat_col[k]), fontsize=18)\n",
    "    \n",
    "    for j in range(cat_order.shape[0]):\n",
    "        count = cat_order[j]\n",
    "        strt='{}'.format(count)\n",
    "        plt.text(j,count+0.1,strt,ha='center', fontsize=16)\n",
    "    k=k+1"
   ]
  },
  {
   "cell_type": "code",
   "execution_count": 65,
   "metadata": {},
   "outputs": [
    {
     "data": {
      "text/plain": [
       "Text(0.5, 1.0, 'Number of Years Value Counts')"
      ]
     },
     "execution_count": 65,
     "metadata": {},
     "output_type": "execute_result"
    },
    {
     "data": {
      "image/png": "[encoded data removed]",
      "text/plain": [
       "<Figure size 720x576 with 1 Axes>"
      ]
     },
     "metadata": {},
     "output_type": "display_data"
    }
   ],
   "source": [
    "plt.figure(figsize=(10,8))\n",
    "sns.countplot(data= final_df, x= 'No_of_Years')\n",
    "plt.xlabel('Number of Years', fontsize=14)\n",
    "plt.ylabel('Counts', fontsize=14)\n",
    "plt.title('Number of Years Value Counts', fontsize=18)"
   ]
  },
  {
   "cell_type": "markdown",
   "metadata": {},
   "source": [
    "### Convert Categorical variable into numerical\n",
    "Here, I am using One Hot Encoding / get_dummies to convert categorical variables to numerical."
   ]
  },
  {
   "cell_type": "code",
   "execution_count": null,
   "metadata": {},
   "outputs": [],
   "source": [
    "final_df = pd.get_dummies(final_df, drop_first=True)\n",
    "final_df.head()"
   ]
  },
  {
   "cell_type": "code",
   "execution_count": null,
   "metadata": {},
   "outputs": [],
   "source": [
    "plt.figure(figsize=(12,10))\n",
    "sns.heatmap(data = final_df.corr(), annot= True, cmap= 'plasma', vmin= -1 , vmax= 1, linecolor='white', linewidths=2)"
   ]
  },
  {
   "cell_type": "code",
   "execution_count": null,
   "metadata": {},
   "outputs": [],
   "source": [
    "# Let's check data types of variables\n",
    "final_df.dtypes"
   ]
  },
  {
   "cell_type": "code",
   "execution_count": null,
   "metadata": {},
   "outputs": [],
   "source": [
    "# Converting the datatypes of variables as of required datatype\n",
    "final_df['Fuel_Type_Diesel'] = final_df['Fuel_Type_Diesel'].astype('int64')\n",
    "final_df['Fuel_Type_Petrol'] = final_df['Fuel_Type_Petrol'].astype('int64')\n",
    "final_df['Seller_Type_Individual'] = final_df['Seller_Type_Individual'].astype('int64')\n",
    "final_df['Transmission_Manual'] = final_df['Transmission_Manual'].astype('int64')"
   ]
  },
  {
   "cell_type": "code",
   "execution_count": null,
   "metadata": {},
   "outputs": [],
   "source": [
    "X = final_df.iloc[:, 1:]            # Feature matrix (independent variables)\n",
    "y = final_df.iloc[:, 0]             # Target variable (dependent variable)"
   ]
  },
  {
   "cell_type": "code",
   "execution_count": null,
   "metadata": {},
   "outputs": [],
   "source": [
    "# To check important feature\n",
    "from sklearn.ensemble import ExtraTreesRegressor\n",
    "\n",
    "model = ExtraTreesRegressor()\n",
    "model.fit(X,y)"
   ]
  },
  {
   "cell_type": "code",
   "execution_count": null,
   "metadata": {},
   "outputs": [],
   "source": [
    "print(model.feature_importances_)"
   ]
  },
  {
   "cell_type": "code",
   "execution_count": null,
   "metadata": {},
   "outputs": [],
   "source": [
    "#plot graph of feature importances for better visualization\n",
    "\n",
    "imp_feature = pd.Series(model.feature_importances_, index = X.columns)\n",
    "imp_feature.nlargest(7).plot(kind = 'barh', color='red')\n",
    "plt.title('Important Features', fontsize=16)\n",
    "plt.show()"
   ]
  },
  {
   "cell_type": "markdown",
   "metadata": {},
   "source": [
    "But in this project, we will use all features for prediction."
   ]
  },
  {
   "cell_type": "code",
   "execution_count": null,
   "metadata": {},
   "outputs": [],
   "source": [
    "from sklearn.model_selection import train_test_split\n",
    "\n",
    "X_train, X_test, y_train, y_test = train_test_split(X, y, test_size=0.2)"
   ]
  },
  {
   "cell_type": "markdown",
   "metadata": {},
   "source": [
    "<h2>Model Building</h2><a id=\"5\"></a>"
   ]
  },
  {
   "cell_type": "code",
   "execution_count": null,
   "metadata": {},
   "outputs": [],
   "source": [
    "models = [ LinearRegression, SVR, DecisionTreeRegressor, RandomForestRegressor, Ridge, Lasso]\n",
    "mse = []\n",
    "rmse = []\n",
    "evs = []\n",
    "r_square_score = []\n",
    "\n",
    "for model in models:\n",
    "    regressor = model().fit(X_train, y_train)\n",
    "    pred = regressor.predict(X_test)\n",
    "    mse.append(mean_squared_error(y_true= y_test, y_pred= pred))\n",
    "    rmse.append(np.sqrt(mean_squared_error(y_true= y_test, y_pred= pred)))\n",
    "    evs.append(explained_variance_score(y_true= y_test, y_pred= pred))\n",
    "    r_square_score.append(r2_score(y_true= y_test, y_pred= pred))\n",
    "    "
   ]
  },
  {
   "cell_type": "code",
   "execution_count": null,
   "metadata": {},
   "outputs": [],
   "source": [
    "# create a new DataFrame from the above three lists\n",
    "MLModels_df = pd.DataFrame({\"Models\": [ 'Linear Regression', 'Support Vector Rregression', 'Decision Tree Regressor', 'Random Forest Regressor', 'Ridge', 'Lasso'],\n",
    "                           \"Mean Squared Error\": mse,\n",
    "                           \"Root Mean Squared Error\": rmse,\n",
    "                           \"Explained Variance Score\": evs,\n",
    "                           \"R-Square Score / Accuracy\": r_square_score})\n",
    "\n",
    "MLModels_df.set_index('Models', inplace=True)\n",
    "MLModels_df.head()"
   ]
  },
  {
   "cell_type": "markdown",
   "metadata": {},
   "source": [
    "I have seen that Random Forest Regressor have minimum 'RMSE' and high accuracy. So, I decided to use Random Forest Regressor as Machine Learning Model. "
   ]
  },
  {
   "cell_type": "code",
   "execution_count": null,
   "metadata": {},
   "outputs": [],
   "source": [
    "regressor = RandomForestRegressor()\n",
    "\n",
    "## Hyperparameters \n",
    "# number of trees\n",
    "n_estimators = [int(x) for x in np.linspace(start=100, stop=1200, num=12)]\n",
    "\n",
    "# number of features\n",
    "max_features = ['auto', 'sqrt']\n",
    "\n",
    "# max number of levels in tree\n",
    "max_depth = [int(x) for x in np.linspace(start= 5, stop= 30, num= 6)]\n",
    "\n",
    "# min. number of sample required to split a node\n",
    "min_samples_split = [2,5,10,15,100]\n",
    "\n",
    "# min. number of samples required at each leaf node\n",
    "min_samples_leaf = [1,2,5,10]"
   ]
  },
  {
   "cell_type": "code",
   "execution_count": null,
   "metadata": {},
   "outputs": [],
   "source": [
    "# Create the random grid\n",
    "random_grid= {'n_estimators': n_estimators, \n",
    "              'max_features' : max_features,\n",
    "              'max_depth' : max_depth,\n",
    "              'min_samples_split' : min_samples_split,\n",
    "              'min_samples_leaf' : min_samples_leaf}\n",
    "print(random_grid)"
   ]
  },
  {
   "cell_type": "code",
   "execution_count": null,
   "metadata": {},
   "outputs": [],
   "source": [
    "regressor_random = RandomizedSearchCV(estimator=  regressor, param_distributions=  random_grid, scoring= 'neg_mean_squared_error', \\\n",
    "                                      n_iter = 10, cv=5, verbose = 2, random_state=42, n_jobs=1)\n",
    "regressor_random.fit(X_train, y_train)"
   ]
  },
  {
   "cell_type": "code",
   "execution_count": null,
   "metadata": {},
   "outputs": [],
   "source": [
    "y_predictions = regressor_random.predict(X_test)\n",
    "y_predictions"
   ]
  },
  {
   "cell_type": "markdown",
   "metadata": {},
   "source": [
    "### Predicting Test Data by visualizing\n",
    "*Now that I've fit and trained the model, I need to evaluate its performance by predicting the test values and visualize the results.*"
   ]
  },
  {
   "cell_type": "code",
   "execution_count": null,
   "metadata": {},
   "outputs": [],
   "source": [
    "plt.figure(figsize=(7,5))\n",
    "plt.scatter(x= y_test, y= y_predictions)\n",
    "plt.xlabel('Y Test (True values)')\n",
    "plt.ylabel('Predicted Values')\n",
    "plt.title('True value Vs Predicted values of Price', fontsize=14)"
   ]
  },
  {
   "cell_type": "markdown",
   "metadata": {},
   "source": [
    "### Residuals\n",
    "\n",
    "*Next, I explore the residuals to make sure everything was okay with the data (i.e. it is Normally distributed).*"
   ]
  },
  {
   "cell_type": "code",
   "execution_count": null,
   "metadata": {},
   "outputs": [],
   "source": [
    "sns.distplot(y_test - y_predictions)"
   ]
  },
  {
   "cell_type": "markdown",
   "metadata": {},
   "source": [
    "<h2>Model Evaluation</h2><a id=\"6\"></a>"
   ]
  },
  {
   "cell_type": "code",
   "execution_count": null,
   "metadata": {},
   "outputs": [],
   "source": [
    "print('Mean Absolute Error: ', mean_absolute_error(y_test, y_predictions))\n",
    "print('Mean Squareed Error: ', mean_squared_error(y_test, y_predictions))\n",
    "print('Root Mean Square Error: ', np.sqrt(mean_squared_error(y_test, y_predictions)))\n",
    "print('\\nExplaned Variance Score: ', explained_variance_score(y_true= y_test, y_pred= y_predictions))"
   ]
  },
  {
   "cell_type": "code",
   "execution_count": null,
   "metadata": {},
   "outputs": [],
   "source": [
    "print('Accuracy: ', r2_score(y_test, y_predictions))"
   ]
  },
  {
   "cell_type": "markdown",
   "metadata": {},
   "source": [
    "<h3>Gerenate the pickle file</h3><a id=\"7\"></a>"
   ]
  },
  {
   "cell_type": "code",
   "execution_count": null,
   "metadata": {},
   "outputs": [],
   "source": [
    "import pickle\n",
    "\n",
    "# open the file where you want to store\n",
    "file = open('rf_regression_model.pkl', 'wb')\n",
    "\n",
    "# dump information on that file\n",
    "pickle.dump(regressor_random, file)"
   ]
  },
  {
   "cell_type": "code",
   "execution_count": null,
   "metadata": {},
   "outputs": [],
   "source": []
  },
  {
   "cell_type": "code",
   "execution_count": null,
   "metadata": {},
   "outputs": [],
   "source": []
  },
  {
   "cell_type": "code",
   "execution_count": null,
   "metadata": {},
   "outputs": [],
   "source": []
  },
  {
   "cell_type": "code",
   "execution_count": null,
   "metadata": {},
   "outputs": [],
   "source": []
  },
  {
   "cell_type": "code",
   "execution_count": null,
   "metadata": {},
   "outputs": [],
   "source": []
  }
 ],
 "metadata": {
  "kernelspec": {
   "display_name": "Python 3 (ipykernel)",
   "language": "python",
   "name": "python3"
  },
  "language_info": {
   "codemirror_mode": {
    "name": "ipython",
    "version": 3
   },
   "file_extension": ".py",
   "mimetype": "text/x-python",
   "name": "python",
   "nbconvert_exporter": "python",
   "pygments_lexer": "ipython3",
   "version": "3.9.12"
  }
 },
 "nbformat": 4,
 "nbformat_minor": 4
}
