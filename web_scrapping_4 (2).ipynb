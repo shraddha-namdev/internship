{
 "cells": [
  {
   "cell_type": "code",
   "execution_count": 4,
   "id": "232b3683",
   "metadata": {},
   "outputs": [
    {
     "name": "stdout",
     "output_type": "stream",
     "text": [
      "Requirement already satisfied: selenium in c:\\users\\nidhi\\anaconda3\\lib\\site-packages (4.4.3)\n",
      "Requirement already satisfied: certifi>=2021.10.8 in c:\\users\\nidhi\\anaconda3\\lib\\site-packages (from selenium) (2021.10.8)\n",
      "Requirement already satisfied: trio-websocket~=0.9 in c:\\users\\nidhi\\anaconda3\\lib\\site-packages (from selenium) (0.9.2)\n",
      "Requirement already satisfied: trio~=0.17 in c:\\users\\nidhi\\anaconda3\\lib\\site-packages (from selenium) (0.21.0)\n",
      "Requirement already satisfied: urllib3[socks]~=1.26 in c:\\users\\nidhi\\anaconda3\\lib\\site-packages (from selenium) (1.26.7)\n",
      "Requirement already satisfied: sortedcontainers in c:\\users\\nidhi\\anaconda3\\lib\\site-packages (from trio~=0.17->selenium) (2.4.0)\n",
      "Requirement already satisfied: attrs>=19.2.0 in c:\\users\\nidhi\\anaconda3\\lib\\site-packages (from trio~=0.17->selenium) (21.2.0)\n",
      "Requirement already satisfied: sniffio in c:\\users\\nidhi\\anaconda3\\lib\\site-packages (from trio~=0.17->selenium) (1.2.0)\n",
      "Requirement already satisfied: async-generator>=1.9 in c:\\users\\nidhi\\anaconda3\\lib\\site-packages (from trio~=0.17->selenium) (1.10)\n",
      "Requirement already satisfied: idna in c:\\users\\nidhi\\anaconda3\\lib\\site-packages (from trio~=0.17->selenium) (3.2)\n",
      "Requirement already satisfied: outcome in c:\\users\\nidhi\\anaconda3\\lib\\site-packages (from trio~=0.17->selenium) (1.2.0)\n",
      "Requirement already satisfied: cffi>=1.14 in c:\\users\\nidhi\\anaconda3\\lib\\site-packages (from trio~=0.17->selenium) (1.14.6)\n",
      "Requirement already satisfied: pycparser in c:\\users\\nidhi\\anaconda3\\lib\\site-packages (from cffi>=1.14->trio~=0.17->selenium) (2.20)\n",
      "Requirement already satisfied: wsproto>=0.14 in c:\\users\\nidhi\\anaconda3\\lib\\site-packages (from trio-websocket~=0.9->selenium) (1.2.0)\n",
      "Requirement already satisfied: PySocks!=1.5.7,<2.0,>=1.5.6 in c:\\users\\nidhi\\anaconda3\\lib\\site-packages (from urllib3[socks]~=1.26->selenium) (1.7.1)\n",
      "Requirement already satisfied: h11<1,>=0.9.0 in c:\\users\\nidhi\\anaconda3\\lib\\site-packages (from wsproto>=0.14->trio-websocket~=0.9->selenium) (0.13.0)\n"
     ]
    }
   ],
   "source": [
    "!pip install selenium\n"
   ]
  },
  {
   "cell_type": "code",
   "execution_count": 4,
   "id": "ec571a10",
   "metadata": {},
   "outputs": [],
   "source": [
    "import selenium\n",
    "import pandas as pd\n",
    "import time\n",
    "from bs4 import BeautifulSoup\n",
    "\n",
    "# Importing selenium webdriver \n",
    "from selenium import webdriver\n",
    "\n",
    "# Importing required Exceptions which needs to handled\n",
    "from selenium.common.exceptions import StaleElementReferenceException, NoSuchElementException\n",
    "\n",
    "#Importing requests\n",
    "import requests\n",
    "\n",
    "# importing regex\n",
    "import re"
   ]
  },
  {
   "cell_type": "code",
   "execution_count": 8,
   "id": "abc7a4c0",
   "metadata": {},
   "outputs": [
    {
     "name": "stderr",
     "output_type": "stream",
     "text": [
      "C:\\Users\\NIDHI\\AppData\\Local\\Temp/ipykernel_4772/2189529405.py:1: DeprecationWarning: executable_path has been deprecated, please pass in a Service object\n",
      "  driver=webdriver.Chrome(r\"C:\\Users\\NIDHI\\Downloads\\chromedriver_win32\\chromedriver.exe\")\n"
     ]
    }
   ],
   "source": [
    "driver=webdriver.Chrome(\"C:\\Users\\NIDHI\\Downloads\\chromedriver_win32\\chromedriver.exe\")"
   ]
  },
  {
   "cell_type": "code",
   "execution_count": null,
   "id": "2ad50d60",
   "metadata": {},
   "outputs": [],
   "source": [
    "PATH=\"C:/driver/chromedriver.exe\" \n",
    "\n",
    "driver=webdriver.Chrome(\"C:/Users/NIDHI/Downloads/chromedriver_win32/chromedriver\")\n"
   ]
  },
  {
   "cell_type": "code",
   "execution_count": 10,
   "id": "256ba4a1",
   "metadata": {},
   "outputs": [],
   "source": [
    "driver.get('https://hangouts.google.com')"
   ]
  },
  {
   "cell_type": "code",
   "execution_count": 12,
   "id": "7d976e27",
   "metadata": {},
   "outputs": [],
   "source": [
    "url_1=\"https://en.wikipedia.org/wiki/List_of_most-viewed_YouTube_videos/\"\n"
   ]
  },
  {
   "cell_type": "code",
   "execution_count": 13,
   "id": "91acac4b",
   "metadata": {},
   "outputs": [],
   "source": [
    "driver.get(url_1)\n"
   ]
  },
  {
   "cell_type": "code",
   "execution_count": 14,
   "id": "61ae46f2",
   "metadata": {},
   "outputs": [],
   "source": [
    "Rank=[]\n",
    "Name=[]\n",
    "Artist=[]\n",
    "Upload_Date=[]\n",
    "Views=[]\n"
   ]
  },
  {
   "cell_type": "code",
   "execution_count": 15,
   "id": "9d873d84",
   "metadata": {},
   "outputs": [],
   "source": [
    "search_1 = driver.find_element(\"xpath\",'//*[@id=\"noarticletext\"]/tbody/tr/td/span/a')       # Locating page foe top videos by xpath\n",
    "search_1.click()"
   ]
  },
  {
   "cell_type": "code",
   "execution_count": 16,
   "id": "4d30032f",
   "metadata": {},
   "outputs": [],
   "source": [
    "search_2 = driver.find_element(\"xpath\",'//*[@id=\"mw-content-text\"]/div[3]/ul/li[1]/div[1]/a')       # Locating page for top youtube videos by xpath\n",
    "search_2.click()"
   ]
  },
  {
   "cell_type": "code",
   "execution_count": 17,
   "id": "127ae966",
   "metadata": {},
   "outputs": [
    {
     "name": "stdout",
     "output_type": "stream",
     "text": [
      "1 ['']\n"
     ]
    }
   ],
   "source": [
    "rk=driver.find_elements(\"xpath\",\"//*[@id='mw-content-text']/div[1]/table[1]/tbody/tr/td[1]\")\n",
    "for i in rk:\n",
    "    if i.text is None :\n",
    "        Rank.append(\"--\") \n",
    "    else:\n",
    "        Rank.append(i.text)\n",
    "print(len(Rank),Rank)\n"
   ]
  },
  {
   "cell_type": "code",
   "execution_count": 18,
   "id": "6f740c24",
   "metadata": {},
   "outputs": [
    {
     "name": "stdout",
     "output_type": "stream",
     "text": [
      "1 ['This article needs additional citations for verification. Please help improve this article by adding citations to reliable sources. Unsourced material may be challenged and removed.\\nFind sources: \"List of most-viewed YouTube videos\" – news · newspapers · books · scholar · JSTOR (March 2021) (Learn how and when to remove this template message)']\n"
     ]
    }
   ],
   "source": [
    "#scraping the Video Name \n",
    "nm=driver.find_elements(\"xpath\",\"//*[@id='mw-content-text']/div[1]/table[1]/tbody/tr/td[2]\")\n",
    "for i in nm:\n",
    "    if i.text is None :\n",
    "        Name.append(\"--\") \n",
    "    else:\n",
    "        Name.append(i.text)\n",
    "print(len(Name),Name)"
   ]
  },
  {
   "cell_type": "code",
   "execution_count": 19,
   "id": "94b09af3",
   "metadata": {},
   "outputs": [
    {
     "ename": "AttributeError",
     "evalue": "'WebDriver' object has no attribute 'find_elements_by_xpath'",
     "output_type": "error",
     "traceback": [
      "\u001b[1;31m---------------------------------------------------------------------------\u001b[0m",
      "\u001b[1;31mAttributeError\u001b[0m                            Traceback (most recent call last)",
      "\u001b[1;32m~\\AppData\\Local\\Temp/ipykernel_8460/2067153960.py\u001b[0m in \u001b[0;36m<module>\u001b[1;34m\u001b[0m\n\u001b[0;32m      1\u001b[0m \u001b[1;31m#scraping the Artist\u001b[0m\u001b[1;33m\u001b[0m\u001b[1;33m\u001b[0m\u001b[0m\n\u001b[1;32m----> 2\u001b[1;33m \u001b[0mAr\u001b[0m\u001b[1;33m=\u001b[0m\u001b[0mdriver\u001b[0m\u001b[1;33m.\u001b[0m\u001b[0mfind_elements_by_xpath\u001b[0m\u001b[1;33m(\u001b[0m\u001b[1;34m\"//*[@id='mw-content-text']/div[1]/table[1]/tbody/tr/td[3]\"\u001b[0m\u001b[1;33m)\u001b[0m\u001b[1;33m\u001b[0m\u001b[1;33m\u001b[0m\u001b[0m\n\u001b[0m\u001b[0;32m      3\u001b[0m \u001b[1;32mfor\u001b[0m \u001b[0mi\u001b[0m \u001b[1;32min\u001b[0m \u001b[0mAr\u001b[0m\u001b[1;33m:\u001b[0m\u001b[1;33m\u001b[0m\u001b[1;33m\u001b[0m\u001b[0m\n\u001b[0;32m      4\u001b[0m     \u001b[1;32mif\u001b[0m \u001b[0mi\u001b[0m\u001b[1;33m.\u001b[0m\u001b[0mtext\u001b[0m \u001b[1;32mis\u001b[0m \u001b[1;32mNone\u001b[0m \u001b[1;33m:\u001b[0m\u001b[1;33m\u001b[0m\u001b[1;33m\u001b[0m\u001b[0m\n\u001b[0;32m      5\u001b[0m         \u001b[0mArtist\u001b[0m\u001b[1;33m.\u001b[0m\u001b[0mappend\u001b[0m\u001b[1;33m(\u001b[0m\u001b[1;34m\"--\"\u001b[0m\u001b[1;33m)\u001b[0m\u001b[1;33m\u001b[0m\u001b[1;33m\u001b[0m\u001b[0m\n",
      "\u001b[1;31mAttributeError\u001b[0m: 'WebDriver' object has no attribute 'find_elements_by_xpath'"
     ]
    }
   ],
   "source": [
    "#scraping the Artist \n",
    "Ar=driver.find_elements_by_xpath(\"//*[@id='mw-content-text']/div[1]/table[1]/tbody/tr/td[3]\")\n",
    "for i in Ar:\n",
    "    if i.text is None :\n",
    "        Artist.append(\"--\") \n",
    "    else:\n",
    "        Artist.append(i.text)\n",
    "print(len(Artist),Artist)"
   ]
  },
  {
   "cell_type": "code",
   "execution_count": null,
   "id": "9502ec95",
   "metadata": {},
   "outputs": [],
   "source": [
    "#scraping the Upload_Date \n",
    "date=driver.find_elements_by_xpath(\"//*[@id='mw-content-text']/div[1]/table[1]/tbody/tr/td[5]\")\n",
    "for i in date:\n",
    "    if i.text is None :\n",
    "        Upload_Date.append(\"--\") \n",
    "    else:\n",
    "        Upload_Date.append(i.text)\n",
    "print(len(Upload_Date),Upload_Date)"
   ]
  },
  {
   "cell_type": "code",
   "execution_count": null,
   "id": "7e226fa8",
   "metadata": {},
   "outputs": [],
   "source": [
    "#scraping the Views \n",
    "v=driver.find_elements_by_xpath(\"//*[@id='mw-content-text']/div[1]/table[1]/tbody/tr/td[4]\")\n",
    "for i in v:\n",
    "    if i.text is None :\n",
    "        Views.append(\"--\") \n",
    "    else:\n",
    "        Views.append(i.text)\n",
    "print(len(Views),Views)"
   ]
  },
  {
   "cell_type": "code",
   "execution_count": null,
   "id": "b3598fc3",
   "metadata": {},
   "outputs": [],
   "source": [
    "Youtube_Video=pd.DataFrame([])\n",
    "Youtube_Video['Rank']=Rank\n",
    "Youtube_Video['Video Title']=Name\n",
    "Youtube_Video['Artist']=Artist\n",
    "Youtube_Video['Upload_Date']=Upload_Date\n",
    "Youtube_Video['Views In Bllion']=Views\n",
    "Youtube_Video"
   ]
  },
  {
   "cell_type": "raw",
   "id": "8fe8751b",
   "metadata": {},
   "source": [
    "2. Scrape the details team India’s international fixtures from bcci.tv."
   ]
  },
  {
   "cell_type": "code",
   "execution_count": null,
   "id": "0f3e4b89",
   "metadata": {},
   "outputs": [],
   "source": [
    "url_2=\"https://www.bcci.tv/international/fixtures\"\n"
   ]
  },
  {
   "cell_type": "code",
   "execution_count": null,
   "id": "534580a7",
   "metadata": {},
   "outputs": [],
   "source": [
    "driver.get(url_2)"
   ]
  },
  {
   "cell_type": "code",
   "execution_count": null,
   "id": "efc3450e",
   "metadata": {},
   "outputs": [],
   "source": [
    "Team=[]\n",
    "Date_Time =[]\n",
    "Ground=[]\n",
    "Test_ODI=[]"
   ]
  },
  {
   "cell_type": "code",
   "execution_count": null,
   "id": "53130cb4",
   "metadata": {},
   "outputs": [],
   "source": [
    "#scraping the company_name \n",
    "tm=driver.find_elements_by_xpath(\"//div[@class='fixture__teams']\")\n",
    "for i in tm:\n",
    "    if i.text is None :\n",
    "        Team.append(\"--\") \n",
    "    else:\n",
    "        Team.append(i.text)\n",
    "print(len(Team),Team)"
   ]
  },
  {
   "cell_type": "code",
   "execution_count": null,
   "id": "8c4c59e0",
   "metadata": {},
   "outputs": [],
   "source": [
    "#scraping the Date_Time \n",
    "DT=driver.find_elements_by_xpath(\"//span[@class='fixture__datetime tablet-only']\")\n",
    "for i in DT:\n",
    "    if i.text is None :\n",
    "        Date_Time.append(\"--\") \n",
    "    else:\n",
    "        Date_Time.append(i.text)\n",
    "print(len(Date_Time),Date_Time)"
   ]
  },
  {
   "cell_type": "code",
   "execution_count": null,
   "id": "9b0f7af6",
   "metadata": {},
   "outputs": [],
   "source": [
    "#scraping the Ground \n",
    "G=driver.find_elements_by_xpath(\"//p[@class='fixture__additional-info']/span\")\n",
    "for i in G:\n",
    "    if i.text is None :\n",
    "        Ground.append(\"--\") \n",
    "    else:\n",
    "        Ground.append(i.text)\n",
    "print(len(Ground),Ground)"
   ]
  },
  {
   "cell_type": "code",
   "execution_count": null,
   "id": "35e44c47",
   "metadata": {},
   "outputs": [],
   "source": [
    "#scraping the Test_ODI \n",
    "TO=driver.find_elements_by_xpath(\"//p[@class='fixture__additional-info']/strong\")\n",
    "for i in TO:\n",
    "    if i.text is None :\n",
    "        Test_ODI.append(\"--\") \n",
    "    else:\n",
    "        Test_ODI.append(i.text)\n",
    "print(len(Test_ODI),Test_ODI)"
   ]
  },
  {
   "cell_type": "code",
   "execution_count": null,
   "id": "9a7ac89e",
   "metadata": {},
   "outputs": [],
   "source": [
    "International_Fixtures=pd.DataFrame([])\n",
    "International_Fixtures['Team']=Team\n",
    "International_Fixtures['Date_Time']=Date_Time\n",
    "International_Fixtures['Series']=Test_ODI\n",
    "International_Fixtures['Ground']=Ground\n",
    "International_Fixtures"
   ]
  },
  {
   "cell_type": "markdown",
   "id": "c4eb95f3",
   "metadata": {},
   "source": [
    "# 3. Scrape the details of selenium exception from guru99.com."
   ]
  },
  {
   "cell_type": "code",
   "execution_count": null,
   "id": "c32eac18",
   "metadata": {},
   "outputs": [],
   "source": [
    "url_3=\"https://www.guru99.com/exception-handling-selenium.html\"\n"
   ]
  },
  {
   "cell_type": "code",
   "execution_count": null,
   "id": "39e036ab",
   "metadata": {},
   "outputs": [],
   "source": [
    "driver.get(url_3)\n"
   ]
  },
  {
   "cell_type": "code",
   "execution_count": null,
   "id": "f32b7f0a",
   "metadata": {},
   "outputs": [],
   "source": [
    "exception=[]\n",
    "description =[]\n"
   ]
  },
  {
   "cell_type": "code",
   "execution_count": null,
   "id": "b8af5793",
   "metadata": {},
   "outputs": [],
   "source": [
    "#scraping the exception \n",
    "ex=driver.find_elements_by_xpath(\"/html/body/div[2]/section[3]/div/div[1]/main/div[1]/div/div/div/div/div/div[2]/table/tbody/tr/td[1]\")\n",
    "for i in ex:\n",
    "    if i.text is None :\n",
    "        exception.append(\"--\") \n",
    "    else:\n",
    "        exception.append(i.text)\n",
    "print(len(exception),exception)"
   ]
  },
  {
   "cell_type": "code",
   "execution_count": null,
   "id": "e96aa8a2",
   "metadata": {},
   "outputs": [],
   "source": [
    "#scraping the description \n",
    "desc=driver.find_elements_by_xpath(\"/html/body/div[2]/section[3]/div/div[1]/main/div[1]/div/div/div/div/div/div[2]/table/tbody/tr/td[2]\")\n",
    "for i in desc:\n",
    "    if i.text is None :\n",
    "        description.append(\"--\") \n",
    "    else:\n",
    "        description.append(i.text)\n",
    "print(len(description),description)"
   ]
  },
  {
   "cell_type": "code",
   "execution_count": null,
   "id": "f43065fa",
   "metadata": {},
   "outputs": [],
   "source": [
    "selenium=pd.DataFrame([])\n",
    "selenium['Exception']=exception\n",
    "selenium['Description']=description\n",
    "\n",
    "selenium"
   ]
  },
  {
   "cell_type": "markdown",
   "id": "5d850be1",
   "metadata": {},
   "source": [
    "# 4. Scrape the details of State-wise GDP of India from statisticstime.com."
   ]
  },
  {
   "cell_type": "code",
   "execution_count": null,
   "id": "b705e3a4",
   "metadata": {},
   "outputs": [],
   "source": [
    "url_4=\"http://statisticstimes.com/\"\n"
   ]
  },
  {
   "cell_type": "code",
   "execution_count": null,
   "id": "ce93f6fc",
   "metadata": {},
   "outputs": [],
   "source": [
    "driver.get(url_4)\n"
   ]
  },
  {
   "cell_type": "code",
   "execution_count": null,
   "id": "b623b12e",
   "metadata": {},
   "outputs": [],
   "source": [
    "Rank=[]\n",
    "State =[]\n",
    "GDP=[]\n",
    "GSDP_Current=[]\n",
    "GSDP_Previous=[]\n",
    "Share=[]"
   ]
  },
  {
   "cell_type": "code",
   "execution_count": null,
   "id": "470ca256",
   "metadata": {},
   "outputs": [],
   "source": [
    "economy = driver.find_element_by_xpath('//*[@id=\"top\"]/div[2]/div[2]/button')       # Locating page foe top videos by xpath\n",
    "economy.click()"
   ]
  },
  {
   "cell_type": "code",
   "execution_count": null,
   "id": "795c007e",
   "metadata": {},
   "outputs": [],
   "source": [
    "ind = driver.find_element_by_xpath('//*[@id=\"top\"]/div[2]/div[2]/div/a[3]')       # Locating page foe top videos by xpath\n",
    "ind.click()"
   ]
  },
  {
   "cell_type": "code",
   "execution_count": null,
   "id": "e2a22946",
   "metadata": {},
   "outputs": [],
   "source": [
    "gdp = driver.find_element_by_xpath('/html/body/div[2]/div[2]/div[2]/ul/li[1]/a')       # Locating page foe top videos by xpath\n",
    "gdp.click()"
   ]
  },
  {
   "cell_type": "code",
   "execution_count": null,
   "id": "08c8dd8c",
   "metadata": {},
   "outputs": [],
   "source": [
    "#scraping the Rank \n",
    "r=driver.find_elements_by_xpath(\"//td[@class='data1']\")\n",
    "for i in r:\n",
    "    if i.text is None :\n",
    "        Rank.append(\"--\") \n",
    "    else:\n",
    "        Rank.append(i.text)\n",
    "print(len(Rank),Rank)"
   ]
  },
  {
   "cell_type": "code",
   "execution_count": null,
   "id": "359f9ff5",
   "metadata": {},
   "outputs": [],
   "source": [
    "#scraping the State \n",
    "St=driver.find_elements_by_xpath(\"//td[@class='name']\")\n",
    "for i in St:\n",
    "    if i.text is None :\n",
    "        State.append(\"--\") \n",
    "    else:\n",
    "        State.append(i.text)\n",
    "print(len(State),State)"
   ]
  },
  {
   "cell_type": "code",
   "execution_count": null,
   "id": "47438fe4",
   "metadata": {},
   "outputs": [],
   "source": [
    "#scraping the GDP \n",
    "gdp=driver.find_elements_by_xpath(\"//*[@id='table_id']/tbody/tr/td[6]\")\n",
    "for i in gdp:\n",
    "    if i.text is None :\n",
    "        GDP.append(\"--\") \n",
    "    else:\n",
    "        GDP.append(i.text)\n",
    "print(len(GDP),GDP)"
   ]
  },
  {
   "cell_type": "code",
   "execution_count": null,
   "id": "bf3d11ca",
   "metadata": {},
   "outputs": [],
   "source": [
    "#scraping the Share \n",
    "shr=driver.find_elements_by_xpath(\"//*[@id='table_id']/tbody/tr/td[5]\")\n",
    "for i in shr:\n",
    "    if i.text is None :\n",
    "        Share.append(\"--\") \n",
    "    else:\n",
    "        Share.append(i.text)\n",
    "print(len(Share),Share)"
   ]
  },
  {
   "cell_type": "code",
   "execution_count": null,
   "id": "4e609063",
   "metadata": {},
   "outputs": [],
   "source": [
    "#scraping the GSDP_Current \n",
    "shr=driver.find_elements_by_xpath(\"//*[@id='table_id']/tbody/tr/td[4]\")\n",
    "for i in shr:\n",
    "    if i.text is None :\n",
    "        GSDP_Current.append(\"--\") \n",
    "    else:\n",
    "        GSDP_Current.append(i.text)\n",
    "print(len(GSDP_Current),GSDP_Current)"
   ]
  },
  {
   "cell_type": "code",
   "execution_count": null,
   "id": "3560fee9",
   "metadata": {},
   "outputs": [],
   "source": [
    "#scraping the GSDP_Previous \n",
    "shr=driver.find_elements_by_xpath(\"//*[@id='table_id']/tbody/tr/td[8]\")\n",
    "for i in shr:\n",
    "    if i.text is None :\n",
    "        GSDP_Previous.append(\"--\") \n",
    "    else:\n",
    "        GSDP_Previous.append(i.text)\n",
    "print(len(GSDP_Previous),GSDP_Previous)\n"
   ]
  },
  {
   "cell_type": "code",
   "execution_count": null,
   "id": "324c20af",
   "metadata": {},
   "outputs": [],
   "source": [
    "State_GDP=pd.DataFrame([])\n",
    "State_GDP['Rank']=Rank[:33]\n",
    "State_GDP['State']=State[:33]\n",
    "State_GDP['Share In GDP']=Share[:33]\n",
    "State_GDP['GDP of State']=GDP[:33]\n",
    "State_GDP['GSDP_Current']=GSDP_Current[:33]\n",
    "State_GDP['GSDP_Previous']=GSDP_Previous[:33]\n",
    "State_GDP"
   ]
  },
  {
   "cell_type": "markdown",
   "id": "689f2262",
   "metadata": {},
   "source": [
    "# 5. Scrape the details of trending repositories on Github.com.\n",
    " \n"
   ]
  },
  {
   "cell_type": "code",
   "execution_count": null,
   "id": "ca3a8373",
   "metadata": {},
   "outputs": [],
   "source": [
    "url_5=\"https://github.com/\"\n"
   ]
  },
  {
   "cell_type": "code",
   "execution_count": null,
   "id": "ff919d34",
   "metadata": {},
   "outputs": [],
   "source": [
    "driver.get(url_5)\n"
   ]
  },
  {
   "cell_type": "code",
   "execution_count": null,
   "id": "e8980723",
   "metadata": {},
   "outputs": [],
   "source": [
    "Repository_Name =[]\n",
    "Language=[]\n",
    "Muted_Link=[]"
   ]
  },
  {
   "cell_type": "code",
   "execution_count": null,
   "id": "de7b401f",
   "metadata": {},
   "outputs": [],
   "source": [
    "explore = driver.find_element_by_xpath('/html/body/div[1]/header/div/div[2]/nav/ul/li[4]/details')       # Locating page foe top videos by xpath\n",
    "explore.click()"
   ]
  },
  {
   "cell_type": "code",
   "execution_count": null,
   "id": "cb6d4c17",
   "metadata": {},
   "outputs": [],
   "source": [
    "trending = driver.find_element_by_xpath('/html/body/div[1]/header/div/div[2]/nav/ul/li[4]/details/div/ul[2]/li[3]')       # Locating page foe top videos by xpath\n",
    "trending.click()"
   ]
  },
  {
   "cell_type": "code",
   "execution_count": null,
   "id": "afc52d65",
   "metadata": {},
   "outputs": [],
   "source": [
    "#scraping the Repositor_Name \n",
    "RN=driver.find_elements_by_xpath(\"//span[@class='text-normal']\")\n",
    "for i in RN:\n",
    "    if i.text is None :\n",
    "        Repository_Name.append(\"--\") \n",
    "    else:\n",
    "        Repository_Name.append(i.text)\n",
    "print(len(Repository_Name),Repository_Name)\n"
   ]
  },
  {
   "cell_type": "code",
   "execution_count": null,
   "id": "c8a4696f",
   "metadata": {},
   "outputs": [],
   "source": [
    "Description=[]\n",
    "#scraping the Description \n",
    "des=driver.find_elements_by_xpath(\"//p[@class='col-9 text-gray my-1 pr-4']\")\n",
    "for i in des:\n",
    "    if i.text is None :\n",
    "        Description.append(\"--\") \n",
    "    else:\n",
    "        Description.append(i.text)\n",
    "print(len(Description),Description)\n"
   ]
  },
  {
   "cell_type": "code",
   "execution_count": null,
   "id": "2aa63ec5",
   "metadata": {},
   "outputs": [],
   "source": [
    "#scraping the Language \n",
    "L=driver.find_elements_by_xpath(\"//span[@itemprop='programmingLanguage']\")\n",
    "for i in L:\n",
    "    if i.text is None :\n",
    "        Language.append(\"NAN\") \n",
    "    else:\n",
    "        Language.append(i.text)\n",
    "print(len(Language),Language)\n"
   ]
  },
  {
   "cell_type": "code",
   "execution_count": null,
   "id": "b8eead7a",
   "metadata": {},
   "outputs": [],
   "source": [
    "#scraping the Muted_Link And Star \n",
    "ml=driver.find_elements_by_xpath(\"//a[@class='muted-link d-inline-block mr-3']\")\n",
    "for i in ml:\n",
    "    if i.text is None :\n",
    "        Muted_Link.append(\"NAN\") \n",
    "    else:\n",
    "        Muted_Link.append(i.text)\n",
    "print(len(Muted_Link),Muted_Link)"
   ]
  },
  {
   "cell_type": "code",
   "execution_count": null,
   "id": "f8dc7b61",
   "metadata": {},
   "outputs": [],
   "source": [
    "Muted=[]\n",
    "for i in range(1,len(Muted_Link),2):\n",
    "    Muted.append(Muted_Link[i])\n",
    "    \n",
    "print(len(Muted),Muted)"
   ]
  },
  {
   "cell_type": "code",
   "execution_count": null,
   "id": "2a82e71c",
   "metadata": {},
   "outputs": [],
   "source": [
    "Muted_Star=[]\n",
    "for i in range(0,len(Muted_Link),2):\n",
    "    Muted_Star.append(Muted_Link[i])\n",
    "    \n",
    "print(len(Muted_Star),Muted_Star)"
   ]
  },
  {
   "cell_type": "code",
   "execution_count": null,
   "id": "383823e1",
   "metadata": {},
   "outputs": [],
   "source": [
    "Trending_Repository=pd.DataFrame([])\n",
    "Trending_Repository['Name']=Repository_Name[:22]\n",
    "Trending_Repository['Description']=Description[:22]\n",
    "Trending_Repository['Language']=Language[:22]\n",
    "Trending_Repository['Conutrybuted']=Muted[:22]\n",
    "Trending_Repository['Muted_Star']=Muted_Star[:22]\n",
    "Trending_Repository"
   ]
  },
  {
   "cell_type": "markdown",
   "id": "24f00c6c",
   "metadata": {},
   "source": [
    "# 6. Scrape the details of top 100 songs on billiboard.com."
   ]
  },
  {
   "cell_type": "code",
   "execution_count": null,
   "id": "3444c9d9",
   "metadata": {},
   "outputs": [],
   "source": [
    "url_6=\"https://www.billboard.com/\"\n"
   ]
  },
  {
   "cell_type": "code",
   "execution_count": null,
   "id": "2c9c4ceb",
   "metadata": {},
   "outputs": [],
   "source": [
    "driver.get(url_6)\n"
   ]
  },
  {
   "cell_type": "code",
   "execution_count": null,
   "id": "38c1efaf",
   "metadata": {},
   "outputs": [],
   "source": [
    "Song_Name =[]\n",
    "Singer=[]\n",
    "rank=[]\n",
    "Last_Week=[]\n",
    "Weeks_on_board=[]"
   ]
  },
  {
   "cell_type": "code",
   "execution_count": null,
   "id": "34e21734",
   "metadata": {},
   "outputs": [],
   "source": [
    "top100 = driver.find_element_by_xpath('//*[@id=\"root\"]/div[2]/div[2]/nav/ul/li[3]')       # Locating page foe top videos by xpath\n",
    "top100.click()"
   ]
  },
  {
   "cell_type": "code",
   "execution_count": null,
   "id": "81a41b30",
   "metadata": {},
   "outputs": [],
   "source": [
    "#scraping the Rank \n",
    "rb=driver.find_elements_by_xpath(\"//div[@class='chart-element__meta text--center color--secondary text--peak']\")\n",
    "for i in rb:\n",
    "    if i.text is None :\n",
    "        rank.append(\"--\") \n",
    "    else:\n",
    "        rank.append(i.text)\n",
    "print(len(rank),rank)\n"
   ]
  },
  {
   "cell_type": "code",
   "execution_count": null,
   "id": "3951ebf4",
   "metadata": {},
   "outputs": [],
   "source": [
    "#scraping the Song_Name \n",
    "son=driver.find_elements_by_xpath(\"//span[@class='chart-element__information__song text--truncate color--primary']\")\n",
    "for i in son:\n",
    "    if i.text is None :\n",
    "        Song_Name.append(\"--\") \n",
    "    else:\n",
    "        Song_Name.append(i.text)\n",
    "print(len(Song_Name),Song_Name)"
   ]
  },
  {
   "cell_type": "code",
   "execution_count": null,
   "id": "359c6f03",
   "metadata": {},
   "outputs": [],
   "source": [
    "#scraping the Singer \n",
    "sin=driver.find_elements_by_xpath(\"//span[@class='chart-element__information__artist text--truncate color--secondary']\")\n",
    "for i in sin:\n",
    "    if i.text is None :\n",
    "        Singer.append(\"--\") \n",
    "    else:\n",
    "        Singer.append(i.text)\n",
    "print(len(Singer),Singer)"
   ]
  },
  {
   "cell_type": "code",
   "execution_count": null,
   "id": "bc814ea3",
   "metadata": {},
   "outputs": [],
   "source": [
    "#scraping the Last_Week Rank \n",
    "lwr=driver.find_elements_by_xpath(\"//div[@class='chart-element__meta text--center color--secondary text--last']\")\n",
    "for i in lwr:\n",
    "    if i.text is None :\n",
    "        Last_Week.append(\"--\") \n",
    "    else:\n",
    "        Last_Week.append(i.text)\n",
    "print(len(Last_Week),Last_Week)"
   ]
  },
  {
   "cell_type": "code",
   "execution_count": null,
   "id": "bc8c1598",
   "metadata": {},
   "outputs": [],
   "source": [
    "#scraping the Weeks_on_board \n",
    "wob=driver.find_elements_by_xpath(\"//div[@class='chart-element__meta text--center color--secondary text--week']\")\n",
    "for i in wob:\n",
    "    if i.text is None :\n",
    "        Weeks_on_board.append(\"--\") \n",
    "    else:\n",
    "        Weeks_on_board.append(i.text)\n",
    "print(len(Weeks_on_board),Weeks_on_board)"
   ]
  },
  {
   "cell_type": "code",
   "execution_count": null,
   "id": "206ff891",
   "metadata": {},
   "outputs": [],
   "source": [
    "Top_Song=pd.DataFrame([])\n",
    "Top_Song['Peak_rank']=rank\n",
    "Top_Song['Song_Name']=Song_Name\n",
    "Top_Song['Singer / Crew']=Singer\n",
    "Top_Song['Last_Week_Rank']=Last_Week\n",
    "Top_Song['Weeks_on_board']=Weeks_on_board\n",
    "Top_Song\n"
   ]
  },
  {
   "cell_type": "markdown",
   "id": "1bf8086e",
   "metadata": {},
   "source": [
    "# 7. Scrape the details of Data science recruiters from naukri.com.\n"
   ]
  },
  {
   "cell_type": "code",
   "execution_count": null,
   "id": "af49ffe4",
   "metadata": {},
   "outputs": [],
   "source": [
    "url_7=\"https://www.naukri.com/data-science-jobs?k=data%20science\"\n"
   ]
  },
  {
   "cell_type": "code",
   "execution_count": null,
   "id": "218bac19",
   "metadata": {},
   "outputs": [],
   "source": [
    "driver.get(url_7)\n"
   ]
  },
  {
   "cell_type": "code",
   "execution_count": null,
   "id": "29441e83",
   "metadata": {},
   "outputs": [],
   "source": [
    "Job_Title =[]\n",
    "Company_Name=[]\n",
    "Skill=[]\n",
    "Salary=[]\n",
    "Location=[]"
   ]
  },
  {
   "cell_type": "code",
   "execution_count": null,
   "id": "bc34555f",
   "metadata": {},
   "outputs": [],
   "source": [
    "#scraping the Job_Title \n",
    "jt=driver.find_elements_by_xpath(\"//a[@class='title fw500 ellipsis']\")\n",
    "for i in jt:\n",
    "    if i.text is None :\n",
    "        Job_Title.append(\"--\") \n",
    "    else:\n",
    "        Job_Title.append(i.text)\n",
    "print(len(Job_Title),Job_Title)"
   ]
  },
  {
   "cell_type": "code",
   "execution_count": null,
   "id": "9ed2136c",
   "metadata": {},
   "outputs": [],
   "source": [
    "#scraping the Company_Name \n",
    "cn=driver.find_elements_by_xpath(\"//a[@class='subTitle ellipsis fleft']\")\n",
    "for i in cn:\n",
    "    if i.text is None :\n",
    "        Company_Name.append(\"--\") \n",
    "    else:\n",
    "        Company_Name.append(i.text)\n",
    "print(len(Company_Name),Company_Name)\n"
   ]
  },
  {
   "cell_type": "code",
   "execution_count": null,
   "id": "a4a8d0ac",
   "metadata": {},
   "outputs": [],
   "source": [
    "#scraping the Company_Name \n",
    "cn=driver.find_elements_by_xpath(\"//a[@class='subTitle ellipsis fleft']\")\n",
    "for i in cn:\n",
    "    if i.text is None :\n",
    "        Company_Name.append(\"--\") \n",
    "    else:\n",
    "        Company_Name.append(i.text)\n",
    "print(len(Company_Name),Company_Name)"
   ]
  },
  {
   "cell_type": "code",
   "execution_count": null,
   "id": "a0aab68a",
   "metadata": {},
   "outputs": [],
   "source": [
    "#scraping the Location \n",
    "loc=driver.find_elements_by_xpath(\"//li[@class='fleft grey-text br2 placeHolderLi location']/span\")\n",
    "for i in loc:\n",
    "    if i.text is None :\n",
    "        Location.append(\"--\") \n",
    "    else:\n",
    "        Location.append(i.text)\n",
    "print(len(Location),Location)"
   ]
  },
  {
   "cell_type": "code",
   "execution_count": null,
   "id": "834b74a9",
   "metadata": {},
   "outputs": [],
   "source": [
    "#scraping the Skill \n",
    "sk=driver.find_elements_by_xpath(\"//ul[@class='tags has-description']\")\n",
    "for i in sk:\n",
    "    if i.text is None :\n",
    "        Skill.append(\"--\") \n",
    "    else:\n",
    "        Skill.append(i.text)\n",
    "print(len(Skill),Skill)"
   ]
  },
  {
   "cell_type": "code",
   "execution_count": null,
   "id": "011a8353",
   "metadata": {},
   "outputs": [],
   "source": [
    "JOB=pd.DataFrame([])\n",
    "JOB['Job_Title']=Job_Title\n",
    "JOB['Skill']=Skill\n",
    "JOB['Company_Name']=Company_Name\n",
    "JOB['Salary']=Salary\n",
    "JOB['Location']=Location\n",
    "JOB"
   ]
  },
  {
   "cell_type": "markdown",
   "id": "4082e0c9",
   "metadata": {},
   "source": [
    "# 8. Scrape the details of Highest selling novels."
   ]
  },
  {
   "cell_type": "code",
   "execution_count": null,
   "id": "e5444bd5",
   "metadata": {},
   "outputs": [],
   "source": [
    "url_8=\"https://www.theguardian.com/news/datablog/2012/aug/09/best-selling-books-all-time-fifty-shades-grey-compare\"\n"
   ]
  },
  {
   "cell_type": "code",
   "execution_count": null,
   "id": "a17c9424",
   "metadata": {},
   "outputs": [],
   "source": [
    "driver.get(url_8)\n"
   ]
  },
  {
   "cell_type": "code",
   "execution_count": null,
   "id": "fd2fc35f",
   "metadata": {},
   "outputs": [],
   "source": [
    "Book_name=[]\n",
    "Author_name=[]\n",
    "Volumes_sold=[]\n",
    "Publisher=[]\n",
    "Genre=[]"
   ]
  },
  {
   "cell_type": "code",
   "execution_count": null,
   "id": "19663e15",
   "metadata": {},
   "outputs": [],
   "source": [
    "#scraping the Book_name \n",
    "bname=driver.find_elements_by_xpath(\"/html/body/div/div[2]/div[2]/div/div[2]/div/table/tbody/tr/td[2]\")\n",
    "for i in bname:\n",
    "    if i.text is None :\n",
    "        Book_name.append(\"--\") \n",
    "    else:\n",
    "        Book_name.append(i.text)\n",
    "print(len(Book_name),Book_name)"
   ]
  },
  {
   "cell_type": "code",
   "execution_count": null,
   "id": "4bf7e2b9",
   "metadata": {},
   "outputs": [],
   "source": [
    "#scraping the Author_name \n",
    "Auth=driver.find_elements_by_xpath(\"/html/body/div/div[2]/div[2]/div/div[2]/div/table/tbody/tr/td[3]\")\n",
    "for i in Auth:\n",
    "    if i.text is None :\n",
    "        Author_name.append(\"--\") \n",
    "    else:\n",
    "        Author_name.append(i.text)\n",
    "print(len(Author_name),Author_name)\n"
   ]
  },
  {
   "cell_type": "code",
   "execution_count": null,
   "id": "22045dba",
   "metadata": {},
   "outputs": [],
   "source": [
    "#scraping the Genre \n",
    "gen=driver.find_elements_by_xpath(\"/html/body/div/div[2]/div[2]/div/div[2]/div/table/tbody/tr/td[6]\")\n",
    "for i in gen:\n",
    "    if i.text is None :\n",
    "        Genre.append(\"--\") \n",
    "    else:\n",
    "        Genre.append(i.text)\n",
    "print(len(Genre),Genre)"
   ]
  },
  {
   "cell_type": "code",
   "execution_count": null,
   "id": "74025b01",
   "metadata": {},
   "outputs": [],
   "source": [
    "#scraping the Publisher \n",
    "pub=driver.find_elements_by_xpath(\"/html/body/div/div[2]/div[2]/div/div[2]/div/table/tbody/tr/td[5]\")\n",
    "for i in pub:\n",
    "    if i.text is None :\n",
    "        Publisher.append(\"--\") \n",
    "    else:\n",
    "        Publisher.append(i.text)\n",
    "print(len(Publisher),Publisher)"
   ]
  },
  {
   "cell_type": "code",
   "execution_count": null,
   "id": "0c1c7957",
   "metadata": {},
   "outputs": [],
   "source": [
    "#scraping the Volumes_sold \n",
    "vs=driver.find_elements_by_xpath(\"/html/body/div/div[2]/div[2]/div/div[2]/div/table/tbody/tr/td[4]\")\n",
    "for i in vs:\n",
    "    if i.text is None :\n",
    "        Volumes_sold.append(\"--\") \n",
    "    else:\n",
    "        Volumes_sold.append(i.text)\n",
    "print(len(Volumes_sold),Volumes_sold)"
   ]
  },
  {
   "cell_type": "code",
   "execution_count": null,
   "id": "4904aca8",
   "metadata": {},
   "outputs": [],
   "source": [
    "Book=pd.DataFrame([])\n",
    "Book['Book_name']=Book_name\n",
    "Book['Author_name']=Author_name\n",
    "Book['Genre']=Genre\n",
    "Book['Publisher']=Publisher\n",
    "Book['Volumes_sold']=Volumes_sold\n",
    "Book"
   ]
  },
  {
   "cell_type": "markdown",
   "id": "83ec67ca",
   "metadata": {},
   "source": [
    "# 9. Scrape the details most watched tv series of all time from imdb.com"
   ]
  },
  {
   "cell_type": "code",
   "execution_count": null,
   "id": "38513736",
   "metadata": {},
   "outputs": [],
   "source": [
    "url_9=\"https://www.imdb.com/list/ls095964455/\"\n"
   ]
  },
  {
   "cell_type": "code",
   "execution_count": null,
   "id": "67ca690b",
   "metadata": {},
   "outputs": [],
   "source": [
    "driver.get(url_9)\n"
   ]
  },
  {
   "cell_type": "code",
   "execution_count": null,
   "id": "caef273e",
   "metadata": {},
   "outputs": [],
   "source": [
    "Name=[]\n",
    "Year_span=[]\n",
    "Genres=[]\n",
    "Run_time=[]\n",
    "Ratings=[]\n",
    "Votes=[]"
   ]
  },
  {
   "cell_type": "code",
   "execution_count": null,
   "id": "9b5fe26e",
   "metadata": {},
   "outputs": [],
   "source": [
    "#scraping the Name \n",
    "mname=driver.find_elements_by_xpath(\"//div[@class='lister-item-content']/h3/a\")\n",
    "for i in mname:\n",
    "    if i.text is None :\n",
    "        Name.append(\"--\") \n",
    "    else:\n",
    "        Name.append(i.text)\n",
    "print(len(Name),Name)"
   ]
  },
  {
   "cell_type": "code",
   "execution_count": null,
   "id": "ae91b823",
   "metadata": {},
   "outputs": [],
   "source": [
    "#scraping the Year_span \n",
    "ys=driver.find_elements_by_xpath(\"//span[@class='lister-item-year text-muted unbold']\")\n",
    "for i in ys:\n",
    "    if i.text is None :\n",
    "        Year_span.append(\"--\") \n",
    "    else:\n",
    "        Year_span.append(i.text)\n",
    "print(len(Year_span),Year_span)"
   ]
  },
  {
   "cell_type": "code",
   "execution_count": null,
   "id": "d78fe1bd",
   "metadata": {},
   "outputs": [],
   "source": [
    "#scraping the Genres \n",
    "gnr=driver.find_elements_by_xpath(\"//p[@class='text-muted text-small']/span[5]\")\n",
    "for i in gnr:\n",
    "    if i.text is None :\n",
    "        Genres.append(\"--\") \n",
    "    else:\n",
    "        Genres.append(i.text)\n",
    "print(len(Genres),Genres)"
   ]
  },
  {
   "cell_type": "code",
   "execution_count": null,
   "id": "e5853d9c",
   "metadata": {},
   "outputs": [],
   "source": [
    "#scraping the Run_time \n",
    "rt=driver.find_elements_by_xpath(\"//p[@class='text-muted text-small']/span[3]\")\n",
    "for i in rt:\n",
    "    if i.text is None :\n",
    "        Run_time.append(\"--\") \n",
    "    else:\n",
    "        Run_time.append(i.text)\n",
    "print(len(Run_time),Run_time)"
   ]
  },
  {
   "cell_type": "code",
   "execution_count": null,
   "id": "386a29ec",
   "metadata": {},
   "outputs": [],
   "source": [
    "#scraping the Ratings \n",
    "rate=driver.find_elements_by_xpath(\"//div[@class='ipl-rating-star small']/span[2]\")\n",
    "for i in rate:\n",
    "    if i.text is None :\n",
    "        Ratings.append(\"--\") \n",
    "    else:\n",
    "        Ratings.append(i.text)\n",
    "print(len(Ratings),Ratings)"
   ]
  },
  {
   "cell_type": "code",
   "execution_count": null,
   "id": "8f0a4376",
   "metadata": {},
   "outputs": [],
   "source": [
    "#scraping the Votes \n",
    "v=driver.find_elements_by_xpath(\"//div[@class='lister-item-content']/p[4]/span[2]\")\n",
    "for i in v:\n",
    "    if i.text is None :\n",
    "        Votes.append(\"--\") \n",
    "    else:\n",
    "        Votes.append(i.text)\n",
    "print(len(Votes),Votes)"
   ]
  },
  {
   "cell_type": "code",
   "execution_count": null,
   "id": "c6a89acc",
   "metadata": {},
   "outputs": [],
   "source": [
    "TV_Series=pd.DataFrame([])\n",
    "TV_Series['Name']=Name\n",
    "TV_Series['Year_span']=Year_span\n",
    "TV_Series['Run_time']=Run_time\n",
    "TV_Series['Genres']=Genres\n",
    "TV_Series['Ratings']=Ratings\n",
    "TV_Series['Votes']=Votes\n",
    "TV_Series"
   ]
  },
  {
   "cell_type": "markdown",
   "id": "f2e6003c",
   "metadata": {},
   "source": [
    "# 10. Details of Datasets from UCI machine learning repositories."
   ]
  },
  {
   "cell_type": "code",
   "execution_count": null,
   "id": "accf3470",
   "metadata": {},
   "outputs": [],
   "source": [
    "url_10=\"https://archive.ics.uci.edu/ml/index.php\"\n"
   ]
  },
  {
   "cell_type": "code",
   "execution_count": null,
   "id": "92a8d0b4",
   "metadata": {},
   "outputs": [],
   "source": [
    "driver.get(url_10)\n"
   ]
  },
  {
   "cell_type": "code",
   "execution_count": null,
   "id": "d1bcf3d5",
   "metadata": {},
   "outputs": [],
   "source": [
    "Dataset_Name=[]\n",
    "Data_Type=[]\n",
    "Task=[]\n",
    "Attribute_Type=[]\n",
    "No_of_Instances=[]\n",
    "No_of_Attribute=[]\n",
    "Year=[]"
   ]
  },
  {
   "cell_type": "code",
   "execution_count": null,
   "id": "14409cad",
   "metadata": {},
   "outputs": [],
   "source": [
    "search_1 = driver.find_element_by_xpath('/html/body/table[1]/tbody/tr/td[2]/span[2]/a')       # Locating page foe top videos by xpath\n",
    "search_1.click()"
   ]
  },
  {
   "cell_type": "code",
   "execution_count": null,
   "id": "9d7cf35e",
   "metadata": {},
   "outputs": [],
   "source": [
    "#scraping the Dataset_Name \n",
    "dname=driver.find_elements_by_xpath(\"/html/body/table[2]/tbody/tr/td[2]/table[2]/tbody/tr/td[1]/table/tbody/tr/td[2]/p/b/a\")\n",
    "for i in dname:\n",
    "    if i.text is None :\n",
    "        Dataset_Name.append(\"--\") \n",
    "    else:\n",
    "        Dataset_Name.append(i.text)\n",
    "print(len(Dataset_Name),Dataset_Name)"
   ]
  },
  {
   "cell_type": "code",
   "execution_count": null,
   "id": "7384e55f",
   "metadata": {},
   "outputs": [],
   "source": [
    "#scraping the Data_Type \n",
    "dtype=driver.find_elements_by_xpath(\"/html/body/table[2]/tbody/tr/td[2]/table[2]/tbody/tr/td[2]\")\n",
    "for i in dtype:\n",
    "    if i.text is None :\n",
    "        Data_Type.append(\"--\") \n",
    "    else:\n",
    "        Data_Type.append(i.text)\n",
    "print(len(Data_Type),Data_Type)"
   ]
  },
  {
   "cell_type": "code",
   "execution_count": null,
   "id": "e13bc2b0",
   "metadata": {},
   "outputs": [],
   "source": [
    "#scraping the Task \n",
    "t=driver.find_elements_by_xpath(\"/html/body/table[2]/tbody/tr/td[2]/table[2]/tbody/tr/td[3]\")\n",
    "for i in t:\n",
    "    if i.text is None :\n",
    "        Task.append(\"--\") \n",
    "    else:\n",
    "        Task.append(i.text)\n",
    "print(len(Task),Task)"
   ]
  },
  {
   "cell_type": "code",
   "execution_count": null,
   "id": "2ac76813",
   "metadata": {},
   "outputs": [],
   "source": [
    "#scraping the Attribute_Type \n",
    "att=driver.find_elements_by_xpath(\"/html/body/table[2]/tbody/tr/td[2]/table[2]/tbody/tr/td[4]\")\n",
    "for i in att:\n",
    "    if i.text is None :\n",
    "        Attribute_Type.append(\"--\") \n",
    "    else:\n",
    "        Attribute_Type.append(i.text)\n",
    "print(len(Attribute_Type),Attribute_Type)\n"
   ]
  },
  {
   "cell_type": "code",
   "execution_count": null,
   "id": "af7f1520",
   "metadata": {},
   "outputs": [],
   "source": [
    "#scraping the No_of_Instances \n",
    "noi=driver.find_elements_by_xpath(\"/html/body/table[2]/tbody/tr/td[2]/table[2]/tbody/tr/td[5]\")\n",
    "for i in noi:\n",
    "    if i.text is None :\n",
    "        No_of_Instances.append(\"--\") \n",
    "    else:\n",
    "        No_of_Instances.append(i.text)\n",
    "print(len(No_of_Instances),No_of_Instances)"
   ]
  },
  {
   "cell_type": "code",
   "execution_count": null,
   "id": "a9280476",
   "metadata": {},
   "outputs": [],
   "source": []
  }
 ],
 "metadata": {
  "kernelspec": {
   "display_name": "Python 3 (ipykernel)",
   "language": "python",
   "name": "python3"
  },
  "language_info": {
   "codemirror_mode": {
    "name": "ipython",
    "version": 3
   },
   "file_extension": ".py",
   "mimetype": "text/x-python",
   "name": "python",
   "nbconvert_exporter": "python",
   "pygments_lexer": "ipython3",
   "version": "3.9.7"
  }
 },
 "nbformat": 4,
 "nbformat_minor": 5
}
